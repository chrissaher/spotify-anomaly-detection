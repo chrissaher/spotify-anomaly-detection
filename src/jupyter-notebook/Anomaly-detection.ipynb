{
 "cells": [
  {
   "cell_type": "code",
   "execution_count": 504,
   "metadata": {
    "collapsed": true
   },
   "outputs": [],
   "source": [
    "import numpy as np\n",
    "import pandas as pd\n",
    "import matplotlib.pyplot as plt\n",
    "import seaborn as sns\n",
    "%matplotlib inline\n",
    "# https://aqibsaeed.github.io/2016-07-17-anomaly-detection/"
   ]
  },
  {
   "cell_type": "code",
   "execution_count": 505,
   "metadata": {
    "collapsed": true
   },
   "outputs": [],
   "source": [
    "df = pd.read_csv(\"spotify.csv\")"
   ]
  },
  {
   "cell_type": "code",
   "execution_count": 506,
   "metadata": {},
   "outputs": [
    {
     "data": {
      "text/html": [
       "<div>\n",
       "<style>\n",
       "    .dataframe thead tr:only-child th {\n",
       "        text-align: right;\n",
       "    }\n",
       "\n",
       "    .dataframe thead th {\n",
       "        text-align: left;\n",
       "    }\n",
       "\n",
       "    .dataframe tbody tr th {\n",
       "        vertical-align: top;\n",
       "    }\n",
       "</style>\n",
       "<table border=\"1\" class=\"dataframe\">\n",
       "  <thead>\n",
       "    <tr style=\"text-align: right;\">\n",
       "      <th></th>\n",
       "      <th>#</th>\n",
       "      <th>id</th>\n",
       "      <th>Name</th>\n",
       "      <th>danceability</th>\n",
       "      <th>energy</th>\n",
       "      <th>key</th>\n",
       "      <th>loudness</th>\n",
       "      <th>mode</th>\n",
       "      <th>speechiness</th>\n",
       "      <th>acousticness</th>\n",
       "      <th>instrumentalness</th>\n",
       "      <th>liveness</th>\n",
       "      <th>valence</th>\n",
       "      <th>tempo</th>\n",
       "      <th>duration_ms</th>\n",
       "      <th>time_signature</th>\n",
       "    </tr>\n",
       "  </thead>\n",
       "  <tbody>\n",
       "    <tr>\n",
       "      <th>0</th>\n",
       "      <td>0</td>\n",
       "      <td>1qvY1z3Wm3sAYeHfPTnrbI</td>\n",
       "      <td>La Muralla Verde</td>\n",
       "      <td>0.724</td>\n",
       "      <td>0.856</td>\n",
       "      <td>8</td>\n",
       "      <td>-6.119</td>\n",
       "      <td>0</td>\n",
       "      <td>0.0283</td>\n",
       "      <td>0.0653</td>\n",
       "      <td>0.000002</td>\n",
       "      <td>0.354</td>\n",
       "      <td>0.884</td>\n",
       "      <td>129.794</td>\n",
       "      <td>161800</td>\n",
       "      <td>4.0</td>\n",
       "    </tr>\n",
       "    <tr>\n",
       "      <th>1</th>\n",
       "      <td>1</td>\n",
       "      <td>2tgUxOJHTjFxKHmfhyZGuS</td>\n",
       "      <td>Por El Resto</td>\n",
       "      <td>0.548</td>\n",
       "      <td>0.969</td>\n",
       "      <td>9</td>\n",
       "      <td>-4.631</td>\n",
       "      <td>0</td>\n",
       "      <td>0.0539</td>\n",
       "      <td>0.0410</td>\n",
       "      <td>0.000039</td>\n",
       "      <td>0.303</td>\n",
       "      <td>0.892</td>\n",
       "      <td>136.958</td>\n",
       "      <td>265627</td>\n",
       "      <td>4.0</td>\n",
       "    </tr>\n",
       "    <tr>\n",
       "      <th>2</th>\n",
       "      <td>2</td>\n",
       "      <td>2vR0SW93BdIciNlqeJVSch</td>\n",
       "      <td>Te V? en un Tren</td>\n",
       "      <td>0.583</td>\n",
       "      <td>0.940</td>\n",
       "      <td>2</td>\n",
       "      <td>-4.637</td>\n",
       "      <td>1</td>\n",
       "      <td>0.0346</td>\n",
       "      <td>0.1170</td>\n",
       "      <td>0.000000</td>\n",
       "      <td>0.240</td>\n",
       "      <td>0.748</td>\n",
       "      <td>136.848</td>\n",
       "      <td>245267</td>\n",
       "      <td>4.0</td>\n",
       "    </tr>\n",
       "    <tr>\n",
       "      <th>3</th>\n",
       "      <td>3</td>\n",
       "      <td>4BlMZN5TUA3O1NbtnMZOEh</td>\n",
       "      <td>El Extra?o Del Pelo Largo</td>\n",
       "      <td>0.500</td>\n",
       "      <td>0.951</td>\n",
       "      <td>2</td>\n",
       "      <td>-4.849</td>\n",
       "      <td>1</td>\n",
       "      <td>0.0427</td>\n",
       "      <td>0.0341</td>\n",
       "      <td>0.000000</td>\n",
       "      <td>0.416</td>\n",
       "      <td>0.676</td>\n",
       "      <td>134.741</td>\n",
       "      <td>173867</td>\n",
       "      <td>4.0</td>\n",
       "    </tr>\n",
       "    <tr>\n",
       "      <th>4</th>\n",
       "      <td>4</td>\n",
       "      <td>09TTeexnlKewZdjOak2sV2</td>\n",
       "      <td>Nada Personal - Remasterizado 2007</td>\n",
       "      <td>0.758</td>\n",
       "      <td>0.935</td>\n",
       "      <td>8</td>\n",
       "      <td>-5.284</td>\n",
       "      <td>0</td>\n",
       "      <td>0.0517</td>\n",
       "      <td>0.4200</td>\n",
       "      <td>0.133000</td>\n",
       "      <td>0.114</td>\n",
       "      <td>0.436</td>\n",
       "      <td>124.372</td>\n",
       "      <td>292573</td>\n",
       "      <td>4.0</td>\n",
       "    </tr>\n",
       "  </tbody>\n",
       "</table>\n",
       "</div>"
      ],
      "text/plain": [
       "   #                      id                                Name  \\\n",
       "0  0  1qvY1z3Wm3sAYeHfPTnrbI                    La Muralla Verde   \n",
       "1  1  2tgUxOJHTjFxKHmfhyZGuS                        Por El Resto   \n",
       "2  2  2vR0SW93BdIciNlqeJVSch                    Te V? en un Tren   \n",
       "3  3  4BlMZN5TUA3O1NbtnMZOEh           El Extra?o Del Pelo Largo   \n",
       "4  4  09TTeexnlKewZdjOak2sV2  Nada Personal - Remasterizado 2007   \n",
       "\n",
       "   danceability  energy  key  loudness  mode  speechiness  acousticness  \\\n",
       "0         0.724   0.856    8    -6.119     0       0.0283        0.0653   \n",
       "1         0.548   0.969    9    -4.631     0       0.0539        0.0410   \n",
       "2         0.583   0.940    2    -4.637     1       0.0346        0.1170   \n",
       "3         0.500   0.951    2    -4.849     1       0.0427        0.0341   \n",
       "4         0.758   0.935    8    -5.284     0       0.0517        0.4200   \n",
       "\n",
       "   instrumentalness  liveness  valence    tempo  duration_ms  time_signature  \n",
       "0          0.000002     0.354    0.884  129.794       161800             4.0  \n",
       "1          0.000039     0.303    0.892  136.958       265627             4.0  \n",
       "2          0.000000     0.240    0.748  136.848       245267             4.0  \n",
       "3          0.000000     0.416    0.676  134.741       173867             4.0  \n",
       "4          0.133000     0.114    0.436  124.372       292573             4.0  "
      ]
     },
     "execution_count": 506,
     "metadata": {},
     "output_type": "execute_result"
    }
   ],
   "source": [
    "df.head()"
   ]
  },
  {
   "cell_type": "code",
   "execution_count": 507,
   "metadata": {},
   "outputs": [
    {
     "data": {
      "text/plain": [
       "9     28\n",
       "7     27\n",
       "4     27\n",
       "2     26\n",
       "0     25\n",
       "11    16\n",
       "1     15\n",
       "5     13\n",
       "6     12\n",
       "8      8\n",
       "10     6\n",
       "3      5\n",
       "Name: key, dtype: int64"
      ]
     },
     "execution_count": 507,
     "metadata": {},
     "output_type": "execute_result"
    }
   ],
   "source": [
    "df[\"key\"].value_counts()"
   ]
  },
  {
   "cell_type": "code",
   "execution_count": 508,
   "metadata": {
    "collapsed": true
   },
   "outputs": [],
   "source": [
    "df = df.drop(\"#\", axis = 1)\n",
    "df = df.drop(\"id\", axis = 1)\n",
    "df = df.drop(\"Name\", axis = 1)\n",
    "df = df.drop(\"duration_ms\", axis = 1)\n",
    "df = df.drop(\"time_signature\", axis = 1)"
   ]
  },
  {
   "cell_type": "code",
   "execution_count": 509,
   "metadata": {},
   "outputs": [
    {
     "data": {
      "text/html": [
       "<div>\n",
       "<style>\n",
       "    .dataframe thead tr:only-child th {\n",
       "        text-align: right;\n",
       "    }\n",
       "\n",
       "    .dataframe thead th {\n",
       "        text-align: left;\n",
       "    }\n",
       "\n",
       "    .dataframe tbody tr th {\n",
       "        vertical-align: top;\n",
       "    }\n",
       "</style>\n",
       "<table border=\"1\" class=\"dataframe\">\n",
       "  <thead>\n",
       "    <tr style=\"text-align: right;\">\n",
       "      <th></th>\n",
       "      <th>danceability</th>\n",
       "      <th>energy</th>\n",
       "      <th>key</th>\n",
       "      <th>loudness</th>\n",
       "      <th>mode</th>\n",
       "      <th>speechiness</th>\n",
       "      <th>acousticness</th>\n",
       "      <th>instrumentalness</th>\n",
       "      <th>liveness</th>\n",
       "      <th>valence</th>\n",
       "      <th>tempo</th>\n",
       "    </tr>\n",
       "  </thead>\n",
       "  <tbody>\n",
       "    <tr>\n",
       "      <th>0</th>\n",
       "      <td>0.724</td>\n",
       "      <td>0.856</td>\n",
       "      <td>8</td>\n",
       "      <td>-6.119</td>\n",
       "      <td>0</td>\n",
       "      <td>0.0283</td>\n",
       "      <td>0.0653</td>\n",
       "      <td>0.000002</td>\n",
       "      <td>0.354</td>\n",
       "      <td>0.884</td>\n",
       "      <td>129.794</td>\n",
       "    </tr>\n",
       "    <tr>\n",
       "      <th>1</th>\n",
       "      <td>0.548</td>\n",
       "      <td>0.969</td>\n",
       "      <td>9</td>\n",
       "      <td>-4.631</td>\n",
       "      <td>0</td>\n",
       "      <td>0.0539</td>\n",
       "      <td>0.0410</td>\n",
       "      <td>0.000039</td>\n",
       "      <td>0.303</td>\n",
       "      <td>0.892</td>\n",
       "      <td>136.958</td>\n",
       "    </tr>\n",
       "    <tr>\n",
       "      <th>2</th>\n",
       "      <td>0.583</td>\n",
       "      <td>0.940</td>\n",
       "      <td>2</td>\n",
       "      <td>-4.637</td>\n",
       "      <td>1</td>\n",
       "      <td>0.0346</td>\n",
       "      <td>0.1170</td>\n",
       "      <td>0.000000</td>\n",
       "      <td>0.240</td>\n",
       "      <td>0.748</td>\n",
       "      <td>136.848</td>\n",
       "    </tr>\n",
       "    <tr>\n",
       "      <th>3</th>\n",
       "      <td>0.500</td>\n",
       "      <td>0.951</td>\n",
       "      <td>2</td>\n",
       "      <td>-4.849</td>\n",
       "      <td>1</td>\n",
       "      <td>0.0427</td>\n",
       "      <td>0.0341</td>\n",
       "      <td>0.000000</td>\n",
       "      <td>0.416</td>\n",
       "      <td>0.676</td>\n",
       "      <td>134.741</td>\n",
       "    </tr>\n",
       "    <tr>\n",
       "      <th>4</th>\n",
       "      <td>0.758</td>\n",
       "      <td>0.935</td>\n",
       "      <td>8</td>\n",
       "      <td>-5.284</td>\n",
       "      <td>0</td>\n",
       "      <td>0.0517</td>\n",
       "      <td>0.4200</td>\n",
       "      <td>0.133000</td>\n",
       "      <td>0.114</td>\n",
       "      <td>0.436</td>\n",
       "      <td>124.372</td>\n",
       "    </tr>\n",
       "  </tbody>\n",
       "</table>\n",
       "</div>"
      ],
      "text/plain": [
       "   danceability  energy  key  loudness  mode  speechiness  acousticness  \\\n",
       "0         0.724   0.856    8    -6.119     0       0.0283        0.0653   \n",
       "1         0.548   0.969    9    -4.631     0       0.0539        0.0410   \n",
       "2         0.583   0.940    2    -4.637     1       0.0346        0.1170   \n",
       "3         0.500   0.951    2    -4.849     1       0.0427        0.0341   \n",
       "4         0.758   0.935    8    -5.284     0       0.0517        0.4200   \n",
       "\n",
       "   instrumentalness  liveness  valence    tempo  \n",
       "0          0.000002     0.354    0.884  129.794  \n",
       "1          0.000039     0.303    0.892  136.958  \n",
       "2          0.000000     0.240    0.748  136.848  \n",
       "3          0.000000     0.416    0.676  134.741  \n",
       "4          0.133000     0.114    0.436  124.372  "
      ]
     },
     "execution_count": 509,
     "metadata": {},
     "output_type": "execute_result"
    }
   ],
   "source": [
    "df.head()"
   ]
  },
  {
   "cell_type": "code",
   "execution_count": 510,
   "metadata": {},
   "outputs": [
    {
     "data": {
      "text/plain": [
       "(array([  1.,   4.,  12.,  27.,  47.,  45.,  30.,  30.,  10.,   2.]),\n",
       " array([ 0.192 ,  0.2684,  0.3448,  0.4212,  0.4976,  0.574 ,  0.6504,\n",
       "         0.7268,  0.8032,  0.8796,  0.956 ]),\n",
       " <a list of 10 Patch objects>)"
      ]
     },
     "execution_count": 510,
     "metadata": {},
     "output_type": "execute_result"
    },
    {
     "data": {
      "image/png": "[encoded data removed]",
      "text/plain": [
       "<matplotlib.figure.Figure at 0x187045f8>"
      ]
     },
     "metadata": {},
     "output_type": "display_data"
    }
   ],
   "source": [
    "plt.hist(df[\"danceability\"])"
   ]
  },
  {
   "cell_type": "code",
   "execution_count": 511,
   "metadata": {},
   "outputs": [
    {
     "data": {
      "text/plain": [
       "numpy.float64"
      ]
     },
     "execution_count": 511,
     "metadata": {},
     "output_type": "execute_result"
    }
   ],
   "source": [
    "type(df.iloc[0][\"danceability\"])"
   ]
  },
  {
   "cell_type": "code",
   "execution_count": 512,
   "metadata": {},
   "outputs": [],
   "source": [
    "df[\"DanInt\"] = pd.cut(df[\"danceability\"], 10)"
   ]
  },
  {
   "cell_type": "code",
   "execution_count": 513,
   "metadata": {},
   "outputs": [
    {
     "data": {
      "text/plain": [
       "<matplotlib.axes._subplots.AxesSubplot at 0x18f29e48>"
      ]
     },
     "execution_count": 513,
     "metadata": {},
     "output_type": "execute_result"
    },
    {
     "data": {
      "image/png": "[encoded data removed]",
      "text/plain": [
       "<matplotlib.figure.Figure at 0x1919cf98>"
      ]
     },
     "metadata": {},
     "output_type": "display_data"
    }
   ],
   "source": [
    "#df[\"DanInt\"].value_counts()\n",
    "sns.countplot(df[\"DanInt\"])"
   ]
  },
  {
   "cell_type": "code",
   "execution_count": 514,
   "metadata": {},
   "outputs": [],
   "source": [
    "def getDanIndex(x):\n",
    "    if x <= 0.268:\n",
    "        return 1\n",
    "    if x <= 0.345:\n",
    "        return 2\n",
    "    if x <= 0.421:\n",
    "        return 3\n",
    "    if x <= 0.498:\n",
    "        return 4\n",
    "    if x <= 0.574:\n",
    "        return 5\n",
    "    if x <= 0.65:\n",
    "        return 6\n",
    "    if x <= 0.727:\n",
    "        return 7\n",
    "    if x < 0.803:\n",
    "        return 8\n",
    "    if x < 0.88:\n",
    "        return 9\n",
    "    return 10\n",
    "df[\"DanInt\"] = df[\"danceability\"].apply(lambda x: getDanIndex(x))"
   ]
  },
  {
   "cell_type": "code",
   "execution_count": 515,
   "metadata": {},
   "outputs": [
    {
     "data": {
      "image/png": "[encoded data removed]",
      "text/plain": [
       "<matplotlib.figure.Figure at 0x18afd320>"
      ]
     },
     "metadata": {},
     "output_type": "display_data"
    }
   ],
   "source": [
    "ax = sns.countplot(df[\"DanInt\"])"
   ]
  },
  {
   "cell_type": "code",
   "execution_count": 516,
   "metadata": {},
   "outputs": [
    {
     "data": {
      "text/html": [
       "<div>\n",
       "<style>\n",
       "    .dataframe thead tr:only-child th {\n",
       "        text-align: right;\n",
       "    }\n",
       "\n",
       "    .dataframe thead th {\n",
       "        text-align: left;\n",
       "    }\n",
       "\n",
       "    .dataframe tbody tr th {\n",
       "        vertical-align: top;\n",
       "    }\n",
       "</style>\n",
       "<table border=\"1\" class=\"dataframe\">\n",
       "  <thead>\n",
       "    <tr style=\"text-align: right;\">\n",
       "      <th></th>\n",
       "      <th>danceability</th>\n",
       "      <th>energy</th>\n",
       "      <th>key</th>\n",
       "      <th>loudness</th>\n",
       "      <th>mode</th>\n",
       "      <th>speechiness</th>\n",
       "      <th>acousticness</th>\n",
       "      <th>instrumentalness</th>\n",
       "      <th>liveness</th>\n",
       "      <th>valence</th>\n",
       "      <th>tempo</th>\n",
       "      <th>DanInt</th>\n",
       "    </tr>\n",
       "  </thead>\n",
       "  <tbody>\n",
       "    <tr>\n",
       "      <th>0</th>\n",
       "      <td>0.724</td>\n",
       "      <td>0.856</td>\n",
       "      <td>8</td>\n",
       "      <td>-6.119</td>\n",
       "      <td>0</td>\n",
       "      <td>0.0283</td>\n",
       "      <td>0.0653</td>\n",
       "      <td>0.000002</td>\n",
       "      <td>0.354</td>\n",
       "      <td>0.884</td>\n",
       "      <td>129.794</td>\n",
       "      <td>7</td>\n",
       "    </tr>\n",
       "    <tr>\n",
       "      <th>1</th>\n",
       "      <td>0.548</td>\n",
       "      <td>0.969</td>\n",
       "      <td>9</td>\n",
       "      <td>-4.631</td>\n",
       "      <td>0</td>\n",
       "      <td>0.0539</td>\n",
       "      <td>0.0410</td>\n",
       "      <td>0.000039</td>\n",
       "      <td>0.303</td>\n",
       "      <td>0.892</td>\n",
       "      <td>136.958</td>\n",
       "      <td>5</td>\n",
       "    </tr>\n",
       "    <tr>\n",
       "      <th>2</th>\n",
       "      <td>0.583</td>\n",
       "      <td>0.940</td>\n",
       "      <td>2</td>\n",
       "      <td>-4.637</td>\n",
       "      <td>1</td>\n",
       "      <td>0.0346</td>\n",
       "      <td>0.1170</td>\n",
       "      <td>0.000000</td>\n",
       "      <td>0.240</td>\n",
       "      <td>0.748</td>\n",
       "      <td>136.848</td>\n",
       "      <td>6</td>\n",
       "    </tr>\n",
       "    <tr>\n",
       "      <th>3</th>\n",
       "      <td>0.500</td>\n",
       "      <td>0.951</td>\n",
       "      <td>2</td>\n",
       "      <td>-4.849</td>\n",
       "      <td>1</td>\n",
       "      <td>0.0427</td>\n",
       "      <td>0.0341</td>\n",
       "      <td>0.000000</td>\n",
       "      <td>0.416</td>\n",
       "      <td>0.676</td>\n",
       "      <td>134.741</td>\n",
       "      <td>5</td>\n",
       "    </tr>\n",
       "    <tr>\n",
       "      <th>4</th>\n",
       "      <td>0.758</td>\n",
       "      <td>0.935</td>\n",
       "      <td>8</td>\n",
       "      <td>-5.284</td>\n",
       "      <td>0</td>\n",
       "      <td>0.0517</td>\n",
       "      <td>0.4200</td>\n",
       "      <td>0.133000</td>\n",
       "      <td>0.114</td>\n",
       "      <td>0.436</td>\n",
       "      <td>124.372</td>\n",
       "      <td>8</td>\n",
       "    </tr>\n",
       "  </tbody>\n",
       "</table>\n",
       "</div>"
      ],
      "text/plain": [
       "   danceability  energy  key  loudness  mode  speechiness  acousticness  \\\n",
       "0         0.724   0.856    8    -6.119     0       0.0283        0.0653   \n",
       "1         0.548   0.969    9    -4.631     0       0.0539        0.0410   \n",
       "2         0.583   0.940    2    -4.637     1       0.0346        0.1170   \n",
       "3         0.500   0.951    2    -4.849     1       0.0427        0.0341   \n",
       "4         0.758   0.935    8    -5.284     0       0.0517        0.4200   \n",
       "\n",
       "   instrumentalness  liveness  valence    tempo  DanInt  \n",
       "0          0.000002     0.354    0.884  129.794       7  \n",
       "1          0.000039     0.303    0.892  136.958       5  \n",
       "2          0.000000     0.240    0.748  136.848       6  \n",
       "3          0.000000     0.416    0.676  134.741       5  \n",
       "4          0.133000     0.114    0.436  124.372       8  "
      ]
     },
     "execution_count": 516,
     "metadata": {},
     "output_type": "execute_result"
    }
   ],
   "source": [
    "df.head()"
   ]
  },
  {
   "cell_type": "code",
   "execution_count": 517,
   "metadata": {},
   "outputs": [
    {
     "data": {
      "text/plain": [
       "(array([  2.,   5.,   4.,   5.,   9.,  18.,  30.,  45.,  52.,  38.]),\n",
       " array([ 0.336 ,  0.4022,  0.4684,  0.5346,  0.6008,  0.667 ,  0.7332,\n",
       "         0.7994,  0.8656,  0.9318,  0.998 ]),\n",
       " <a list of 10 Patch objects>)"
      ]
     },
     "execution_count": 517,
     "metadata": {},
     "output_type": "execute_result"
    },
    {
     "data": {
      "image/png": "[encoded data removed]",
      "text/plain": [
       "<matplotlib.figure.Figure at 0x195cf4a8>"
      ]
     },
     "metadata": {},
     "output_type": "display_data"
    }
   ],
   "source": [
    "plt.hist(df[\"energy\"])"
   ]
  },
  {
   "cell_type": "code",
   "execution_count": 518,
   "metadata": {
    "collapsed": true
   },
   "outputs": [],
   "source": [
    "def getEnergyIndex(x):\n",
    "    for i in range(11):\n",
    "        if x < 0.1 * i:\n",
    "            return i\n",
    "df[\"EneInt\"] = df[\"energy\"].apply(lambda x: getEnergyIndex(x))"
   ]
  },
  {
   "cell_type": "code",
   "execution_count": 519,
   "metadata": {},
   "outputs": [
    {
     "data": {
      "text/plain": [
       "<matplotlib.axes._subplots.AxesSubplot at 0x1967e940>"
      ]
     },
     "execution_count": 519,
     "metadata": {},
     "output_type": "execute_result"
    },
    {
     "data": {
      "image/png": "[encoded data removed]",
      "text/plain": [
       "<matplotlib.figure.Figure at 0x1890a208>"
      ]
     },
     "metadata": {},
     "output_type": "display_data"
    }
   ],
   "source": [
    "sns.countplot(df[\"EneInt\"])"
   ]
  },
  {
   "cell_type": "code",
   "execution_count": 520,
   "metadata": {},
   "outputs": [
    {
     "data": {
      "text/html": [
       "<div>\n",
       "<style>\n",
       "    .dataframe thead tr:only-child th {\n",
       "        text-align: right;\n",
       "    }\n",
       "\n",
       "    .dataframe thead th {\n",
       "        text-align: left;\n",
       "    }\n",
       "\n",
       "    .dataframe tbody tr th {\n",
       "        vertical-align: top;\n",
       "    }\n",
       "</style>\n",
       "<table border=\"1\" class=\"dataframe\">\n",
       "  <thead>\n",
       "    <tr style=\"text-align: right;\">\n",
       "      <th></th>\n",
       "      <th>danceability</th>\n",
       "      <th>energy</th>\n",
       "      <th>key</th>\n",
       "      <th>loudness</th>\n",
       "      <th>mode</th>\n",
       "      <th>speechiness</th>\n",
       "      <th>acousticness</th>\n",
       "      <th>instrumentalness</th>\n",
       "      <th>liveness</th>\n",
       "      <th>valence</th>\n",
       "      <th>tempo</th>\n",
       "      <th>DanInt</th>\n",
       "      <th>EneInt</th>\n",
       "    </tr>\n",
       "  </thead>\n",
       "  <tbody>\n",
       "    <tr>\n",
       "      <th>0</th>\n",
       "      <td>0.724</td>\n",
       "      <td>0.856</td>\n",
       "      <td>8</td>\n",
       "      <td>-6.119</td>\n",
       "      <td>0</td>\n",
       "      <td>0.0283</td>\n",
       "      <td>0.0653</td>\n",
       "      <td>0.000002</td>\n",
       "      <td>0.354</td>\n",
       "      <td>0.884</td>\n",
       "      <td>129.794</td>\n",
       "      <td>7</td>\n",
       "      <td>9</td>\n",
       "    </tr>\n",
       "    <tr>\n",
       "      <th>1</th>\n",
       "      <td>0.548</td>\n",
       "      <td>0.969</td>\n",
       "      <td>9</td>\n",
       "      <td>-4.631</td>\n",
       "      <td>0</td>\n",
       "      <td>0.0539</td>\n",
       "      <td>0.0410</td>\n",
       "      <td>0.000039</td>\n",
       "      <td>0.303</td>\n",
       "      <td>0.892</td>\n",
       "      <td>136.958</td>\n",
       "      <td>5</td>\n",
       "      <td>10</td>\n",
       "    </tr>\n",
       "    <tr>\n",
       "      <th>2</th>\n",
       "      <td>0.583</td>\n",
       "      <td>0.940</td>\n",
       "      <td>2</td>\n",
       "      <td>-4.637</td>\n",
       "      <td>1</td>\n",
       "      <td>0.0346</td>\n",
       "      <td>0.1170</td>\n",
       "      <td>0.000000</td>\n",
       "      <td>0.240</td>\n",
       "      <td>0.748</td>\n",
       "      <td>136.848</td>\n",
       "      <td>6</td>\n",
       "      <td>10</td>\n",
       "    </tr>\n",
       "    <tr>\n",
       "      <th>3</th>\n",
       "      <td>0.500</td>\n",
       "      <td>0.951</td>\n",
       "      <td>2</td>\n",
       "      <td>-4.849</td>\n",
       "      <td>1</td>\n",
       "      <td>0.0427</td>\n",
       "      <td>0.0341</td>\n",
       "      <td>0.000000</td>\n",
       "      <td>0.416</td>\n",
       "      <td>0.676</td>\n",
       "      <td>134.741</td>\n",
       "      <td>5</td>\n",
       "      <td>10</td>\n",
       "    </tr>\n",
       "    <tr>\n",
       "      <th>4</th>\n",
       "      <td>0.758</td>\n",
       "      <td>0.935</td>\n",
       "      <td>8</td>\n",
       "      <td>-5.284</td>\n",
       "      <td>0</td>\n",
       "      <td>0.0517</td>\n",
       "      <td>0.4200</td>\n",
       "      <td>0.133000</td>\n",
       "      <td>0.114</td>\n",
       "      <td>0.436</td>\n",
       "      <td>124.372</td>\n",
       "      <td>8</td>\n",
       "      <td>10</td>\n",
       "    </tr>\n",
       "  </tbody>\n",
       "</table>\n",
       "</div>"
      ],
      "text/plain": [
       "   danceability  energy  key  loudness  mode  speechiness  acousticness  \\\n",
       "0         0.724   0.856    8    -6.119     0       0.0283        0.0653   \n",
       "1         0.548   0.969    9    -4.631     0       0.0539        0.0410   \n",
       "2         0.583   0.940    2    -4.637     1       0.0346        0.1170   \n",
       "3         0.500   0.951    2    -4.849     1       0.0427        0.0341   \n",
       "4         0.758   0.935    8    -5.284     0       0.0517        0.4200   \n",
       "\n",
       "   instrumentalness  liveness  valence    tempo  DanInt  EneInt  \n",
       "0          0.000002     0.354    0.884  129.794       7       9  \n",
       "1          0.000039     0.303    0.892  136.958       5      10  \n",
       "2          0.000000     0.240    0.748  136.848       6      10  \n",
       "3          0.000000     0.416    0.676  134.741       5      10  \n",
       "4          0.133000     0.114    0.436  124.372       8      10  "
      ]
     },
     "execution_count": 520,
     "metadata": {},
     "output_type": "execute_result"
    }
   ],
   "source": [
    "df.head()"
   ]
  },
  {
   "cell_type": "code",
   "execution_count": 521,
   "metadata": {},
   "outputs": [
    {
     "data": {
      "text/plain": [
       "9     28\n",
       "7     27\n",
       "4     27\n",
       "2     26\n",
       "0     25\n",
       "11    16\n",
       "1     15\n",
       "5     13\n",
       "6     12\n",
       "8      8\n",
       "10     6\n",
       "3      5\n",
       "Name: key, dtype: int64"
      ]
     },
     "execution_count": 521,
     "metadata": {},
     "output_type": "execute_result"
    }
   ],
   "source": [
    "df[\"key\"].value_counts()"
   ]
  },
  {
   "cell_type": "code",
   "execution_count": 522,
   "metadata": {},
   "outputs": [
    {
     "data": {
      "text/plain": [
       "<matplotlib.axes._subplots.AxesSubplot at 0x19741208>"
      ]
     },
     "execution_count": 522,
     "metadata": {},
     "output_type": "execute_result"
    },
    {
     "data": {
      "image/png": "[encoded data removed]",
      "text/plain": [
       "<matplotlib.figure.Figure at 0x197e3b70>"
      ]
     },
     "metadata": {},
     "output_type": "display_data"
    }
   ],
   "source": [
    "df[\"KeyInt\"] = df[\"key\"]\n",
    "df[\"ModInt\"] = df[\"mode\"]\n",
    "sns.countplot(df[\"KeyInt\"])"
   ]
  },
  {
   "cell_type": "code",
   "execution_count": 523,
   "metadata": {},
   "outputs": [
    {
     "data": {
      "text/html": [
       "<div>\n",
       "<style>\n",
       "    .dataframe thead tr:only-child th {\n",
       "        text-align: right;\n",
       "    }\n",
       "\n",
       "    .dataframe thead th {\n",
       "        text-align: left;\n",
       "    }\n",
       "\n",
       "    .dataframe tbody tr th {\n",
       "        vertical-align: top;\n",
       "    }\n",
       "</style>\n",
       "<table border=\"1\" class=\"dataframe\">\n",
       "  <thead>\n",
       "    <tr style=\"text-align: right;\">\n",
       "      <th></th>\n",
       "      <th>danceability</th>\n",
       "      <th>energy</th>\n",
       "      <th>key</th>\n",
       "      <th>loudness</th>\n",
       "      <th>mode</th>\n",
       "      <th>speechiness</th>\n",
       "      <th>acousticness</th>\n",
       "      <th>instrumentalness</th>\n",
       "      <th>liveness</th>\n",
       "      <th>valence</th>\n",
       "      <th>tempo</th>\n",
       "      <th>DanInt</th>\n",
       "      <th>EneInt</th>\n",
       "      <th>KeyInt</th>\n",
       "      <th>ModInt</th>\n",
       "    </tr>\n",
       "  </thead>\n",
       "  <tbody>\n",
       "    <tr>\n",
       "      <th>0</th>\n",
       "      <td>0.724</td>\n",
       "      <td>0.856</td>\n",
       "      <td>8</td>\n",
       "      <td>-6.119</td>\n",
       "      <td>0</td>\n",
       "      <td>0.0283</td>\n",
       "      <td>0.0653</td>\n",
       "      <td>0.000002</td>\n",
       "      <td>0.354</td>\n",
       "      <td>0.884</td>\n",
       "      <td>129.794</td>\n",
       "      <td>7</td>\n",
       "      <td>9</td>\n",
       "      <td>8</td>\n",
       "      <td>0</td>\n",
       "    </tr>\n",
       "    <tr>\n",
       "      <th>1</th>\n",
       "      <td>0.548</td>\n",
       "      <td>0.969</td>\n",
       "      <td>9</td>\n",
       "      <td>-4.631</td>\n",
       "      <td>0</td>\n",
       "      <td>0.0539</td>\n",
       "      <td>0.0410</td>\n",
       "      <td>0.000039</td>\n",
       "      <td>0.303</td>\n",
       "      <td>0.892</td>\n",
       "      <td>136.958</td>\n",
       "      <td>5</td>\n",
       "      <td>10</td>\n",
       "      <td>9</td>\n",
       "      <td>0</td>\n",
       "    </tr>\n",
       "    <tr>\n",
       "      <th>2</th>\n",
       "      <td>0.583</td>\n",
       "      <td>0.940</td>\n",
       "      <td>2</td>\n",
       "      <td>-4.637</td>\n",
       "      <td>1</td>\n",
       "      <td>0.0346</td>\n",
       "      <td>0.1170</td>\n",
       "      <td>0.000000</td>\n",
       "      <td>0.240</td>\n",
       "      <td>0.748</td>\n",
       "      <td>136.848</td>\n",
       "      <td>6</td>\n",
       "      <td>10</td>\n",
       "      <td>2</td>\n",
       "      <td>1</td>\n",
       "    </tr>\n",
       "    <tr>\n",
       "      <th>3</th>\n",
       "      <td>0.500</td>\n",
       "      <td>0.951</td>\n",
       "      <td>2</td>\n",
       "      <td>-4.849</td>\n",
       "      <td>1</td>\n",
       "      <td>0.0427</td>\n",
       "      <td>0.0341</td>\n",
       "      <td>0.000000</td>\n",
       "      <td>0.416</td>\n",
       "      <td>0.676</td>\n",
       "      <td>134.741</td>\n",
       "      <td>5</td>\n",
       "      <td>10</td>\n",
       "      <td>2</td>\n",
       "      <td>1</td>\n",
       "    </tr>\n",
       "    <tr>\n",
       "      <th>4</th>\n",
       "      <td>0.758</td>\n",
       "      <td>0.935</td>\n",
       "      <td>8</td>\n",
       "      <td>-5.284</td>\n",
       "      <td>0</td>\n",
       "      <td>0.0517</td>\n",
       "      <td>0.4200</td>\n",
       "      <td>0.133000</td>\n",
       "      <td>0.114</td>\n",
       "      <td>0.436</td>\n",
       "      <td>124.372</td>\n",
       "      <td>8</td>\n",
       "      <td>10</td>\n",
       "      <td>8</td>\n",
       "      <td>0</td>\n",
       "    </tr>\n",
       "  </tbody>\n",
       "</table>\n",
       "</div>"
      ],
      "text/plain": [
       "   danceability  energy  key  loudness  mode  speechiness  acousticness  \\\n",
       "0         0.724   0.856    8    -6.119     0       0.0283        0.0653   \n",
       "1         0.548   0.969    9    -4.631     0       0.0539        0.0410   \n",
       "2         0.583   0.940    2    -4.637     1       0.0346        0.1170   \n",
       "3         0.500   0.951    2    -4.849     1       0.0427        0.0341   \n",
       "4         0.758   0.935    8    -5.284     0       0.0517        0.4200   \n",
       "\n",
       "   instrumentalness  liveness  valence    tempo  DanInt  EneInt  KeyInt  \\\n",
       "0          0.000002     0.354    0.884  129.794       7       9       8   \n",
       "1          0.000039     0.303    0.892  136.958       5      10       9   \n",
       "2          0.000000     0.240    0.748  136.848       6      10       2   \n",
       "3          0.000000     0.416    0.676  134.741       5      10       2   \n",
       "4          0.133000     0.114    0.436  124.372       8      10       8   \n",
       "\n",
       "   ModInt  \n",
       "0       0  \n",
       "1       0  \n",
       "2       1  \n",
       "3       1  \n",
       "4       0  "
      ]
     },
     "execution_count": 523,
     "metadata": {},
     "output_type": "execute_result"
    }
   ],
   "source": [
    "df.head()"
   ]
  },
  {
   "cell_type": "code",
   "execution_count": 524,
   "metadata": {},
   "outputs": [
    {
     "data": {
      "text/plain": [
       "<matplotlib.axes._subplots.AxesSubplot at 0x19875ba8>"
      ]
     },
     "execution_count": 524,
     "metadata": {},
     "output_type": "execute_result"
    },
    {
     "data": {
      "image/png": "[encoded data removed]",
      "text/plain": [
       "<matplotlib.figure.Figure at 0x19755c88>"
      ]
     },
     "metadata": {},
     "output_type": "display_data"
    }
   ],
   "source": [
    "sns.distplot(df[\"loudness\"])"
   ]
  },
  {
   "cell_type": "code",
   "execution_count": 525,
   "metadata": {},
   "outputs": [
    {
     "data": {
      "text/plain": [
       "<matplotlib.axes._subplots.AxesSubplot at 0x1994aeb8>"
      ]
     },
     "execution_count": 525,
     "metadata": {},
     "output_type": "execute_result"
    },
    {
     "data": {
      "image/png": "[encoded data removed]",
      "text/plain": [
       "<matplotlib.figure.Figure at 0x197d8198>"
      ]
     },
     "metadata": {},
     "output_type": "display_data"
    }
   ],
   "source": [
    "df[\"LouInt\"] = pd.cut(df[\"loudness\"], 5)\n",
    "sns.countplot(df[\"LouInt\"])"
   ]
  },
  {
   "cell_type": "code",
   "execution_count": 526,
   "metadata": {},
   "outputs": [
    {
     "data": {
      "text/plain": [
       "(-7.37, -4.776]       92\n",
       "(-4.776, -2.183]      52\n",
       "(-9.963, -7.37]       45\n",
       "(-12.557, -9.963]     13\n",
       "(-15.163, -12.557]     6\n",
       "Name: LouInt, dtype: int64"
      ]
     },
     "execution_count": 526,
     "metadata": {},
     "output_type": "execute_result"
    }
   ],
   "source": [
    "df[\"LouInt\"].value_counts()"
   ]
  },
  {
   "cell_type": "code",
   "execution_count": 527,
   "metadata": {},
   "outputs": [],
   "source": [
    "def getLoudnessIndex(x):\n",
    "    for i in range (1, 60):\n",
    "        if x > -5 * i:\n",
    "            return i\n",
    "\n",
    "df[\"LouInt\"] = df[\"loudness\"].apply(lambda x: getLoudnessIndex(x))"
   ]
  },
  {
   "cell_type": "code",
   "execution_count": 528,
   "metadata": {},
   "outputs": [
    {
     "data": {
      "text/plain": [
       "<matplotlib.axes._subplots.AxesSubplot at 0x199d4400>"
      ]
     },
     "execution_count": 528,
     "metadata": {},
     "output_type": "execute_result"
    },
    {
     "data": {
      "image/png": "[encoded data removed]",
      "text/plain": [
       "<matplotlib.figure.Figure at 0x19755cc0>"
      ]
     },
     "metadata": {},
     "output_type": "display_data"
    }
   ],
   "source": [
    "sns.countplot(df[\"LouInt\"])"
   ]
  },
  {
   "cell_type": "code",
   "execution_count": 529,
   "metadata": {},
   "outputs": [
    {
     "data": {
      "text/html": [
       "<div>\n",
       "<style>\n",
       "    .dataframe thead tr:only-child th {\n",
       "        text-align: right;\n",
       "    }\n",
       "\n",
       "    .dataframe thead th {\n",
       "        text-align: left;\n",
       "    }\n",
       "\n",
       "    .dataframe tbody tr th {\n",
       "        vertical-align: top;\n",
       "    }\n",
       "</style>\n",
       "<table border=\"1\" class=\"dataframe\">\n",
       "  <thead>\n",
       "    <tr style=\"text-align: right;\">\n",
       "      <th></th>\n",
       "      <th>danceability</th>\n",
       "      <th>energy</th>\n",
       "      <th>key</th>\n",
       "      <th>loudness</th>\n",
       "      <th>mode</th>\n",
       "      <th>speechiness</th>\n",
       "      <th>acousticness</th>\n",
       "      <th>instrumentalness</th>\n",
       "      <th>liveness</th>\n",
       "      <th>valence</th>\n",
       "      <th>tempo</th>\n",
       "      <th>DanInt</th>\n",
       "      <th>EneInt</th>\n",
       "      <th>KeyInt</th>\n",
       "      <th>ModInt</th>\n",
       "      <th>LouInt</th>\n",
       "    </tr>\n",
       "  </thead>\n",
       "  <tbody>\n",
       "    <tr>\n",
       "      <th>0</th>\n",
       "      <td>0.724</td>\n",
       "      <td>0.856</td>\n",
       "      <td>8</td>\n",
       "      <td>-6.119</td>\n",
       "      <td>0</td>\n",
       "      <td>0.0283</td>\n",
       "      <td>0.0653</td>\n",
       "      <td>0.000002</td>\n",
       "      <td>0.354</td>\n",
       "      <td>0.884</td>\n",
       "      <td>129.794</td>\n",
       "      <td>7</td>\n",
       "      <td>9</td>\n",
       "      <td>8</td>\n",
       "      <td>0</td>\n",
       "      <td>2</td>\n",
       "    </tr>\n",
       "    <tr>\n",
       "      <th>1</th>\n",
       "      <td>0.548</td>\n",
       "      <td>0.969</td>\n",
       "      <td>9</td>\n",
       "      <td>-4.631</td>\n",
       "      <td>0</td>\n",
       "      <td>0.0539</td>\n",
       "      <td>0.0410</td>\n",
       "      <td>0.000039</td>\n",
       "      <td>0.303</td>\n",
       "      <td>0.892</td>\n",
       "      <td>136.958</td>\n",
       "      <td>5</td>\n",
       "      <td>10</td>\n",
       "      <td>9</td>\n",
       "      <td>0</td>\n",
       "      <td>1</td>\n",
       "    </tr>\n",
       "    <tr>\n",
       "      <th>2</th>\n",
       "      <td>0.583</td>\n",
       "      <td>0.940</td>\n",
       "      <td>2</td>\n",
       "      <td>-4.637</td>\n",
       "      <td>1</td>\n",
       "      <td>0.0346</td>\n",
       "      <td>0.1170</td>\n",
       "      <td>0.000000</td>\n",
       "      <td>0.240</td>\n",
       "      <td>0.748</td>\n",
       "      <td>136.848</td>\n",
       "      <td>6</td>\n",
       "      <td>10</td>\n",
       "      <td>2</td>\n",
       "      <td>1</td>\n",
       "      <td>1</td>\n",
       "    </tr>\n",
       "    <tr>\n",
       "      <th>3</th>\n",
       "      <td>0.500</td>\n",
       "      <td>0.951</td>\n",
       "      <td>2</td>\n",
       "      <td>-4.849</td>\n",
       "      <td>1</td>\n",
       "      <td>0.0427</td>\n",
       "      <td>0.0341</td>\n",
       "      <td>0.000000</td>\n",
       "      <td>0.416</td>\n",
       "      <td>0.676</td>\n",
       "      <td>134.741</td>\n",
       "      <td>5</td>\n",
       "      <td>10</td>\n",
       "      <td>2</td>\n",
       "      <td>1</td>\n",
       "      <td>1</td>\n",
       "    </tr>\n",
       "    <tr>\n",
       "      <th>4</th>\n",
       "      <td>0.758</td>\n",
       "      <td>0.935</td>\n",
       "      <td>8</td>\n",
       "      <td>-5.284</td>\n",
       "      <td>0</td>\n",
       "      <td>0.0517</td>\n",
       "      <td>0.4200</td>\n",
       "      <td>0.133000</td>\n",
       "      <td>0.114</td>\n",
       "      <td>0.436</td>\n",
       "      <td>124.372</td>\n",
       "      <td>8</td>\n",
       "      <td>10</td>\n",
       "      <td>8</td>\n",
       "      <td>0</td>\n",
       "      <td>2</td>\n",
       "    </tr>\n",
       "  </tbody>\n",
       "</table>\n",
       "</div>"
      ],
      "text/plain": [
       "   danceability  energy  key  loudness  mode  speechiness  acousticness  \\\n",
       "0         0.724   0.856    8    -6.119     0       0.0283        0.0653   \n",
       "1         0.548   0.969    9    -4.631     0       0.0539        0.0410   \n",
       "2         0.583   0.940    2    -4.637     1       0.0346        0.1170   \n",
       "3         0.500   0.951    2    -4.849     1       0.0427        0.0341   \n",
       "4         0.758   0.935    8    -5.284     0       0.0517        0.4200   \n",
       "\n",
       "   instrumentalness  liveness  valence    tempo  DanInt  EneInt  KeyInt  \\\n",
       "0          0.000002     0.354    0.884  129.794       7       9       8   \n",
       "1          0.000039     0.303    0.892  136.958       5      10       9   \n",
       "2          0.000000     0.240    0.748  136.848       6      10       2   \n",
       "3          0.000000     0.416    0.676  134.741       5      10       2   \n",
       "4          0.133000     0.114    0.436  124.372       8      10       8   \n",
       "\n",
       "   ModInt  LouInt  \n",
       "0       0       2  \n",
       "1       0       1  \n",
       "2       1       1  \n",
       "3       1       1  \n",
       "4       0       2  "
      ]
     },
     "execution_count": 529,
     "metadata": {},
     "output_type": "execute_result"
    }
   ],
   "source": [
    "df.head()"
   ]
  },
  {
   "cell_type": "code",
   "execution_count": 530,
   "metadata": {},
   "outputs": [
    {
     "data": {
      "text/plain": [
       "(array([ 134.,   45.,   18.,    6.,    1.,    2.,    1.,    0.,    0.,    1.]),\n",
       " array([ 0.0243 ,  0.05227,  0.08024,  0.10821,  0.13618,  0.16415,\n",
       "         0.19212,  0.22009,  0.24806,  0.27603,  0.304  ]),\n",
       " <a list of 10 Patch objects>)"
      ]
     },
     "execution_count": 530,
     "metadata": {},
     "output_type": "execute_result"
    },
    {
     "data": {
      "image/png": "[encoded data removed]",
      "text/plain": [
       "<matplotlib.figure.Figure at 0x199e2860>"
      ]
     },
     "metadata": {},
     "output_type": "display_data"
    }
   ],
   "source": [
    "plt.hist(df[\"speechiness\"])"
   ]
  },
  {
   "cell_type": "code",
   "execution_count": 531,
   "metadata": {
    "collapsed": true
   },
   "outputs": [],
   "source": [
    "def getSpeechinessIndex(x):\n",
    "    for i in range(11):\n",
    "        if x < 0.10 * i:\n",
    "            return i\n",
    "df[\"SpeInt\"] = df[\"speechiness\"].apply(lambda x: getSpeechinessIndex(x))"
   ]
  },
  {
   "cell_type": "code",
   "execution_count": 532,
   "metadata": {},
   "outputs": [
    {
     "data": {
      "text/plain": [
       "<matplotlib.axes._subplots.AxesSubplot at 0x19a4e6d8>"
      ]
     },
     "execution_count": 532,
     "metadata": {},
     "output_type": "execute_result"
    },
    {
     "data": {
      "image/png": "[encoded data removed]",
      "text/plain": [
       "<matplotlib.figure.Figure at 0x19aca588>"
      ]
     },
     "metadata": {},
     "output_type": "display_data"
    }
   ],
   "source": [
    "sns.countplot(df[\"SpeInt\"])"
   ]
  },
  {
   "cell_type": "code",
   "execution_count": 533,
   "metadata": {},
   "outputs": [
    {
     "data": {
      "text/plain": [
       "(array([ 135.,   29.,   16.,   11.,    6.,    4.,    3.,    1.,    1.,    2.]),\n",
       " array([  3.27000000e-05,   7.78294300e-02,   1.55626160e-01,\n",
       "          2.33422890e-01,   3.11219620e-01,   3.89016350e-01,\n",
       "          4.66813080e-01,   5.44609810e-01,   6.22406540e-01,\n",
       "          7.00203270e-01,   7.78000000e-01]),\n",
       " <a list of 10 Patch objects>)"
      ]
     },
     "execution_count": 533,
     "metadata": {},
     "output_type": "execute_result"
    },
    {
     "data": {
      "image/png": "[encoded data removed]",
      "text/plain": [
       "<matplotlib.figure.Figure at 0x1ac2cb00>"
      ]
     },
     "metadata": {},
     "output_type": "display_data"
    }
   ],
   "source": [
    "plt.hist(df[\"acousticness\"])"
   ]
  },
  {
   "cell_type": "code",
   "execution_count": 534,
   "metadata": {},
   "outputs": [],
   "source": [
    "def getAcousticnessIndex(x):\n",
    "    for i in range(11):\n",
    "        if x < 0.1 * i:\n",
    "            return i\n",
    "\n",
    "df[\"AcoInt\"] = df[\"acousticness\"].apply(lambda x: getAcousticnessIndex(x))"
   ]
  },
  {
   "cell_type": "code",
   "execution_count": 535,
   "metadata": {},
   "outputs": [
    {
     "data": {
      "text/plain": [
       "<matplotlib.axes._subplots.AxesSubplot at 0x1accb1d0>"
      ]
     },
     "execution_count": 535,
     "metadata": {},
     "output_type": "execute_result"
    },
    {
     "data": {
      "image/png": "[encoded data removed]",
      "text/plain": [
       "<matplotlib.figure.Figure at 0x1ad06518>"
      ]
     },
     "metadata": {},
     "output_type": "display_data"
    }
   ],
   "source": [
    "sns.countplot(df[\"AcoInt\"])"
   ]
  },
  {
   "cell_type": "code",
   "execution_count": 536,
   "metadata": {},
   "outputs": [
    {
     "data": {
      "text/html": [
       "<div>\n",
       "<style>\n",
       "    .dataframe thead tr:only-child th {\n",
       "        text-align: right;\n",
       "    }\n",
       "\n",
       "    .dataframe thead th {\n",
       "        text-align: left;\n",
       "    }\n",
       "\n",
       "    .dataframe tbody tr th {\n",
       "        vertical-align: top;\n",
       "    }\n",
       "</style>\n",
       "<table border=\"1\" class=\"dataframe\">\n",
       "  <thead>\n",
       "    <tr style=\"text-align: right;\">\n",
       "      <th></th>\n",
       "      <th>danceability</th>\n",
       "      <th>energy</th>\n",
       "      <th>key</th>\n",
       "      <th>loudness</th>\n",
       "      <th>mode</th>\n",
       "      <th>speechiness</th>\n",
       "      <th>acousticness</th>\n",
       "      <th>instrumentalness</th>\n",
       "      <th>liveness</th>\n",
       "      <th>valence</th>\n",
       "      <th>tempo</th>\n",
       "      <th>DanInt</th>\n",
       "      <th>EneInt</th>\n",
       "      <th>KeyInt</th>\n",
       "      <th>ModInt</th>\n",
       "      <th>LouInt</th>\n",
       "      <th>SpeInt</th>\n",
       "      <th>AcoInt</th>\n",
       "    </tr>\n",
       "  </thead>\n",
       "  <tbody>\n",
       "    <tr>\n",
       "      <th>0</th>\n",
       "      <td>0.724</td>\n",
       "      <td>0.856</td>\n",
       "      <td>8</td>\n",
       "      <td>-6.119</td>\n",
       "      <td>0</td>\n",
       "      <td>0.0283</td>\n",
       "      <td>0.0653</td>\n",
       "      <td>0.000002</td>\n",
       "      <td>0.354</td>\n",
       "      <td>0.884</td>\n",
       "      <td>129.794</td>\n",
       "      <td>7</td>\n",
       "      <td>9</td>\n",
       "      <td>8</td>\n",
       "      <td>0</td>\n",
       "      <td>2</td>\n",
       "      <td>1</td>\n",
       "      <td>1</td>\n",
       "    </tr>\n",
       "    <tr>\n",
       "      <th>1</th>\n",
       "      <td>0.548</td>\n",
       "      <td>0.969</td>\n",
       "      <td>9</td>\n",
       "      <td>-4.631</td>\n",
       "      <td>0</td>\n",
       "      <td>0.0539</td>\n",
       "      <td>0.0410</td>\n",
       "      <td>0.000039</td>\n",
       "      <td>0.303</td>\n",
       "      <td>0.892</td>\n",
       "      <td>136.958</td>\n",
       "      <td>5</td>\n",
       "      <td>10</td>\n",
       "      <td>9</td>\n",
       "      <td>0</td>\n",
       "      <td>1</td>\n",
       "      <td>1</td>\n",
       "      <td>1</td>\n",
       "    </tr>\n",
       "    <tr>\n",
       "      <th>2</th>\n",
       "      <td>0.583</td>\n",
       "      <td>0.940</td>\n",
       "      <td>2</td>\n",
       "      <td>-4.637</td>\n",
       "      <td>1</td>\n",
       "      <td>0.0346</td>\n",
       "      <td>0.1170</td>\n",
       "      <td>0.000000</td>\n",
       "      <td>0.240</td>\n",
       "      <td>0.748</td>\n",
       "      <td>136.848</td>\n",
       "      <td>6</td>\n",
       "      <td>10</td>\n",
       "      <td>2</td>\n",
       "      <td>1</td>\n",
       "      <td>1</td>\n",
       "      <td>1</td>\n",
       "      <td>2</td>\n",
       "    </tr>\n",
       "    <tr>\n",
       "      <th>3</th>\n",
       "      <td>0.500</td>\n",
       "      <td>0.951</td>\n",
       "      <td>2</td>\n",
       "      <td>-4.849</td>\n",
       "      <td>1</td>\n",
       "      <td>0.0427</td>\n",
       "      <td>0.0341</td>\n",
       "      <td>0.000000</td>\n",
       "      <td>0.416</td>\n",
       "      <td>0.676</td>\n",
       "      <td>134.741</td>\n",
       "      <td>5</td>\n",
       "      <td>10</td>\n",
       "      <td>2</td>\n",
       "      <td>1</td>\n",
       "      <td>1</td>\n",
       "      <td>1</td>\n",
       "      <td>1</td>\n",
       "    </tr>\n",
       "    <tr>\n",
       "      <th>4</th>\n",
       "      <td>0.758</td>\n",
       "      <td>0.935</td>\n",
       "      <td>8</td>\n",
       "      <td>-5.284</td>\n",
       "      <td>0</td>\n",
       "      <td>0.0517</td>\n",
       "      <td>0.4200</td>\n",
       "      <td>0.133000</td>\n",
       "      <td>0.114</td>\n",
       "      <td>0.436</td>\n",
       "      <td>124.372</td>\n",
       "      <td>8</td>\n",
       "      <td>10</td>\n",
       "      <td>8</td>\n",
       "      <td>0</td>\n",
       "      <td>2</td>\n",
       "      <td>1</td>\n",
       "      <td>5</td>\n",
       "    </tr>\n",
       "  </tbody>\n",
       "</table>\n",
       "</div>"
      ],
      "text/plain": [
       "   danceability  energy  key  loudness  mode  speechiness  acousticness  \\\n",
       "0         0.724   0.856    8    -6.119     0       0.0283        0.0653   \n",
       "1         0.548   0.969    9    -4.631     0       0.0539        0.0410   \n",
       "2         0.583   0.940    2    -4.637     1       0.0346        0.1170   \n",
       "3         0.500   0.951    2    -4.849     1       0.0427        0.0341   \n",
       "4         0.758   0.935    8    -5.284     0       0.0517        0.4200   \n",
       "\n",
       "   instrumentalness  liveness  valence    tempo  DanInt  EneInt  KeyInt  \\\n",
       "0          0.000002     0.354    0.884  129.794       7       9       8   \n",
       "1          0.000039     0.303    0.892  136.958       5      10       9   \n",
       "2          0.000000     0.240    0.748  136.848       6      10       2   \n",
       "3          0.000000     0.416    0.676  134.741       5      10       2   \n",
       "4          0.133000     0.114    0.436  124.372       8      10       8   \n",
       "\n",
       "   ModInt  LouInt  SpeInt  AcoInt  \n",
       "0       0       2       1       1  \n",
       "1       0       1       1       1  \n",
       "2       1       1       1       2  \n",
       "3       1       1       1       1  \n",
       "4       0       2       1       5  "
      ]
     },
     "execution_count": 536,
     "metadata": {},
     "output_type": "execute_result"
    }
   ],
   "source": [
    "df.head()"
   ]
  },
  {
   "cell_type": "code",
   "execution_count": 537,
   "metadata": {},
   "outputs": [],
   "source": [
    "def getInstrumentalnessIndex(x):\n",
    "    for i in range(11):\n",
    "        if x < 0.1 * i:\n",
    "            return i\n",
    "df[\"InsInt\"] = df[\"instrumentalness\"].apply(lambda x: getInstrumentalnessIndex(x))"
   ]
  },
  {
   "cell_type": "code",
   "execution_count": 538,
   "metadata": {},
   "outputs": [
    {
     "data": {
      "text/plain": [
       "<matplotlib.axes._subplots.AxesSubplot at 0x1ac9a6d8>"
      ]
     },
     "execution_count": 538,
     "metadata": {},
     "output_type": "execute_result"
    },
    {
     "data": {
      "image/png": "[encoded data removed]",
      "text/plain": [
       "<matplotlib.figure.Figure at 0x19af4780>"
      ]
     },
     "metadata": {},
     "output_type": "display_data"
    }
   ],
   "source": [
    "sns.countplot(df[\"InsInt\"])"
   ]
  },
  {
   "cell_type": "code",
   "execution_count": 539,
   "metadata": {},
   "outputs": [
    {
     "data": {
      "text/html": [
       "<div>\n",
       "<style>\n",
       "    .dataframe thead tr:only-child th {\n",
       "        text-align: right;\n",
       "    }\n",
       "\n",
       "    .dataframe thead th {\n",
       "        text-align: left;\n",
       "    }\n",
       "\n",
       "    .dataframe tbody tr th {\n",
       "        vertical-align: top;\n",
       "    }\n",
       "</style>\n",
       "<table border=\"1\" class=\"dataframe\">\n",
       "  <thead>\n",
       "    <tr style=\"text-align: right;\">\n",
       "      <th></th>\n",
       "      <th>danceability</th>\n",
       "      <th>energy</th>\n",
       "      <th>key</th>\n",
       "      <th>loudness</th>\n",
       "      <th>mode</th>\n",
       "      <th>speechiness</th>\n",
       "      <th>acousticness</th>\n",
       "      <th>instrumentalness</th>\n",
       "      <th>liveness</th>\n",
       "      <th>valence</th>\n",
       "      <th>tempo</th>\n",
       "      <th>DanInt</th>\n",
       "      <th>EneInt</th>\n",
       "      <th>KeyInt</th>\n",
       "      <th>ModInt</th>\n",
       "      <th>LouInt</th>\n",
       "      <th>SpeInt</th>\n",
       "      <th>AcoInt</th>\n",
       "      <th>InsInt</th>\n",
       "    </tr>\n",
       "  </thead>\n",
       "  <tbody>\n",
       "    <tr>\n",
       "      <th>0</th>\n",
       "      <td>0.724</td>\n",
       "      <td>0.856</td>\n",
       "      <td>8</td>\n",
       "      <td>-6.119</td>\n",
       "      <td>0</td>\n",
       "      <td>0.0283</td>\n",
       "      <td>0.0653</td>\n",
       "      <td>0.000002</td>\n",
       "      <td>0.354</td>\n",
       "      <td>0.884</td>\n",
       "      <td>129.794</td>\n",
       "      <td>7</td>\n",
       "      <td>9</td>\n",
       "      <td>8</td>\n",
       "      <td>0</td>\n",
       "      <td>2</td>\n",
       "      <td>1</td>\n",
       "      <td>1</td>\n",
       "      <td>1</td>\n",
       "    </tr>\n",
       "    <tr>\n",
       "      <th>1</th>\n",
       "      <td>0.548</td>\n",
       "      <td>0.969</td>\n",
       "      <td>9</td>\n",
       "      <td>-4.631</td>\n",
       "      <td>0</td>\n",
       "      <td>0.0539</td>\n",
       "      <td>0.0410</td>\n",
       "      <td>0.000039</td>\n",
       "      <td>0.303</td>\n",
       "      <td>0.892</td>\n",
       "      <td>136.958</td>\n",
       "      <td>5</td>\n",
       "      <td>10</td>\n",
       "      <td>9</td>\n",
       "      <td>0</td>\n",
       "      <td>1</td>\n",
       "      <td>1</td>\n",
       "      <td>1</td>\n",
       "      <td>1</td>\n",
       "    </tr>\n",
       "    <tr>\n",
       "      <th>2</th>\n",
       "      <td>0.583</td>\n",
       "      <td>0.940</td>\n",
       "      <td>2</td>\n",
       "      <td>-4.637</td>\n",
       "      <td>1</td>\n",
       "      <td>0.0346</td>\n",
       "      <td>0.1170</td>\n",
       "      <td>0.000000</td>\n",
       "      <td>0.240</td>\n",
       "      <td>0.748</td>\n",
       "      <td>136.848</td>\n",
       "      <td>6</td>\n",
       "      <td>10</td>\n",
       "      <td>2</td>\n",
       "      <td>1</td>\n",
       "      <td>1</td>\n",
       "      <td>1</td>\n",
       "      <td>2</td>\n",
       "      <td>1</td>\n",
       "    </tr>\n",
       "    <tr>\n",
       "      <th>3</th>\n",
       "      <td>0.500</td>\n",
       "      <td>0.951</td>\n",
       "      <td>2</td>\n",
       "      <td>-4.849</td>\n",
       "      <td>1</td>\n",
       "      <td>0.0427</td>\n",
       "      <td>0.0341</td>\n",
       "      <td>0.000000</td>\n",
       "      <td>0.416</td>\n",
       "      <td>0.676</td>\n",
       "      <td>134.741</td>\n",
       "      <td>5</td>\n",
       "      <td>10</td>\n",
       "      <td>2</td>\n",
       "      <td>1</td>\n",
       "      <td>1</td>\n",
       "      <td>1</td>\n",
       "      <td>1</td>\n",
       "      <td>1</td>\n",
       "    </tr>\n",
       "    <tr>\n",
       "      <th>4</th>\n",
       "      <td>0.758</td>\n",
       "      <td>0.935</td>\n",
       "      <td>8</td>\n",
       "      <td>-5.284</td>\n",
       "      <td>0</td>\n",
       "      <td>0.0517</td>\n",
       "      <td>0.4200</td>\n",
       "      <td>0.133000</td>\n",
       "      <td>0.114</td>\n",
       "      <td>0.436</td>\n",
       "      <td>124.372</td>\n",
       "      <td>8</td>\n",
       "      <td>10</td>\n",
       "      <td>8</td>\n",
       "      <td>0</td>\n",
       "      <td>2</td>\n",
       "      <td>1</td>\n",
       "      <td>5</td>\n",
       "      <td>2</td>\n",
       "    </tr>\n",
       "  </tbody>\n",
       "</table>\n",
       "</div>"
      ],
      "text/plain": [
       "   danceability  energy  key  loudness  mode  speechiness  acousticness  \\\n",
       "0         0.724   0.856    8    -6.119     0       0.0283        0.0653   \n",
       "1         0.548   0.969    9    -4.631     0       0.0539        0.0410   \n",
       "2         0.583   0.940    2    -4.637     1       0.0346        0.1170   \n",
       "3         0.500   0.951    2    -4.849     1       0.0427        0.0341   \n",
       "4         0.758   0.935    8    -5.284     0       0.0517        0.4200   \n",
       "\n",
       "   instrumentalness  liveness  valence    tempo  DanInt  EneInt  KeyInt  \\\n",
       "0          0.000002     0.354    0.884  129.794       7       9       8   \n",
       "1          0.000039     0.303    0.892  136.958       5      10       9   \n",
       "2          0.000000     0.240    0.748  136.848       6      10       2   \n",
       "3          0.000000     0.416    0.676  134.741       5      10       2   \n",
       "4          0.133000     0.114    0.436  124.372       8      10       8   \n",
       "\n",
       "   ModInt  LouInt  SpeInt  AcoInt  InsInt  \n",
       "0       0       2       1       1       1  \n",
       "1       0       1       1       1       1  \n",
       "2       1       1       1       2       1  \n",
       "3       1       1       1       1       1  \n",
       "4       0       2       1       5       2  "
      ]
     },
     "execution_count": 539,
     "metadata": {},
     "output_type": "execute_result"
    }
   ],
   "source": [
    "df.head()"
   ]
  },
  {
   "cell_type": "code",
   "execution_count": 540,
   "metadata": {},
   "outputs": [
    {
     "data": {
      "text/plain": [
       "(array([ 97.,  45.,  30.,  22.,   1.,   4.,   5.,   0.,   0.,   4.]),\n",
       " array([ 0.029 ,  0.1241,  0.2192,  0.3143,  0.4094,  0.5045,  0.5996,\n",
       "         0.6947,  0.7898,  0.8849,  0.98  ]),\n",
       " <a list of 10 Patch objects>)"
      ]
     },
     "execution_count": 540,
     "metadata": {},
     "output_type": "execute_result"
    },
    {
     "data": {
      "image/png": "[encoded data removed]",
      "text/plain": [
       "<matplotlib.figure.Figure at 0x19a967b8>"
      ]
     },
     "metadata": {},
     "output_type": "display_data"
    }
   ],
   "source": [
    "plt.hist(df[\"liveness\"])"
   ]
  },
  {
   "cell_type": "code",
   "execution_count": 541,
   "metadata": {
    "collapsed": true
   },
   "outputs": [],
   "source": [
    "def getLivenessIndex(x):\n",
    "    for i in range(11):\n",
    "        if x < 0.1 * i:\n",
    "            return i\n",
    "df[\"LivInt\"] = df[\"liveness\"].apply(lambda x: getLivenessIndex(x))"
   ]
  },
  {
   "cell_type": "code",
   "execution_count": 542,
   "metadata": {},
   "outputs": [
    {
     "data": {
      "text/plain": [
       "<matplotlib.axes._subplots.AxesSubplot at 0x1ae8fcf8>"
      ]
     },
     "execution_count": 542,
     "metadata": {},
     "output_type": "execute_result"
    },
    {
     "data": {
      "image/png": "[encoded data removed]",
      "text/plain": [
       "<matplotlib.figure.Figure at 0x1af33748>"
      ]
     },
     "metadata": {},
     "output_type": "display_data"
    }
   ],
   "source": [
    "sns.countplot(df[\"LivInt\"])"
   ]
  },
  {
   "cell_type": "code",
   "execution_count": 543,
   "metadata": {},
   "outputs": [
    {
     "data": {
      "text/html": [
       "<div>\n",
       "<style>\n",
       "    .dataframe thead tr:only-child th {\n",
       "        text-align: right;\n",
       "    }\n",
       "\n",
       "    .dataframe thead th {\n",
       "        text-align: left;\n",
       "    }\n",
       "\n",
       "    .dataframe tbody tr th {\n",
       "        vertical-align: top;\n",
       "    }\n",
       "</style>\n",
       "<table border=\"1\" class=\"dataframe\">\n",
       "  <thead>\n",
       "    <tr style=\"text-align: right;\">\n",
       "      <th></th>\n",
       "      <th>danceability</th>\n",
       "      <th>energy</th>\n",
       "      <th>key</th>\n",
       "      <th>loudness</th>\n",
       "      <th>mode</th>\n",
       "      <th>speechiness</th>\n",
       "      <th>acousticness</th>\n",
       "      <th>instrumentalness</th>\n",
       "      <th>liveness</th>\n",
       "      <th>valence</th>\n",
       "      <th>tempo</th>\n",
       "      <th>DanInt</th>\n",
       "      <th>EneInt</th>\n",
       "      <th>KeyInt</th>\n",
       "      <th>ModInt</th>\n",
       "      <th>LouInt</th>\n",
       "      <th>SpeInt</th>\n",
       "      <th>AcoInt</th>\n",
       "      <th>InsInt</th>\n",
       "      <th>LivInt</th>\n",
       "    </tr>\n",
       "  </thead>\n",
       "  <tbody>\n",
       "    <tr>\n",
       "      <th>0</th>\n",
       "      <td>0.724</td>\n",
       "      <td>0.856</td>\n",
       "      <td>8</td>\n",
       "      <td>-6.119</td>\n",
       "      <td>0</td>\n",
       "      <td>0.0283</td>\n",
       "      <td>0.0653</td>\n",
       "      <td>0.000002</td>\n",
       "      <td>0.354</td>\n",
       "      <td>0.884</td>\n",
       "      <td>129.794</td>\n",
       "      <td>7</td>\n",
       "      <td>9</td>\n",
       "      <td>8</td>\n",
       "      <td>0</td>\n",
       "      <td>2</td>\n",
       "      <td>1</td>\n",
       "      <td>1</td>\n",
       "      <td>1</td>\n",
       "      <td>4</td>\n",
       "    </tr>\n",
       "    <tr>\n",
       "      <th>1</th>\n",
       "      <td>0.548</td>\n",
       "      <td>0.969</td>\n",
       "      <td>9</td>\n",
       "      <td>-4.631</td>\n",
       "      <td>0</td>\n",
       "      <td>0.0539</td>\n",
       "      <td>0.0410</td>\n",
       "      <td>0.000039</td>\n",
       "      <td>0.303</td>\n",
       "      <td>0.892</td>\n",
       "      <td>136.958</td>\n",
       "      <td>5</td>\n",
       "      <td>10</td>\n",
       "      <td>9</td>\n",
       "      <td>0</td>\n",
       "      <td>1</td>\n",
       "      <td>1</td>\n",
       "      <td>1</td>\n",
       "      <td>1</td>\n",
       "      <td>4</td>\n",
       "    </tr>\n",
       "    <tr>\n",
       "      <th>2</th>\n",
       "      <td>0.583</td>\n",
       "      <td>0.940</td>\n",
       "      <td>2</td>\n",
       "      <td>-4.637</td>\n",
       "      <td>1</td>\n",
       "      <td>0.0346</td>\n",
       "      <td>0.1170</td>\n",
       "      <td>0.000000</td>\n",
       "      <td>0.240</td>\n",
       "      <td>0.748</td>\n",
       "      <td>136.848</td>\n",
       "      <td>6</td>\n",
       "      <td>10</td>\n",
       "      <td>2</td>\n",
       "      <td>1</td>\n",
       "      <td>1</td>\n",
       "      <td>1</td>\n",
       "      <td>2</td>\n",
       "      <td>1</td>\n",
       "      <td>3</td>\n",
       "    </tr>\n",
       "    <tr>\n",
       "      <th>3</th>\n",
       "      <td>0.500</td>\n",
       "      <td>0.951</td>\n",
       "      <td>2</td>\n",
       "      <td>-4.849</td>\n",
       "      <td>1</td>\n",
       "      <td>0.0427</td>\n",
       "      <td>0.0341</td>\n",
       "      <td>0.000000</td>\n",
       "      <td>0.416</td>\n",
       "      <td>0.676</td>\n",
       "      <td>134.741</td>\n",
       "      <td>5</td>\n",
       "      <td>10</td>\n",
       "      <td>2</td>\n",
       "      <td>1</td>\n",
       "      <td>1</td>\n",
       "      <td>1</td>\n",
       "      <td>1</td>\n",
       "      <td>1</td>\n",
       "      <td>5</td>\n",
       "    </tr>\n",
       "    <tr>\n",
       "      <th>4</th>\n",
       "      <td>0.758</td>\n",
       "      <td>0.935</td>\n",
       "      <td>8</td>\n",
       "      <td>-5.284</td>\n",
       "      <td>0</td>\n",
       "      <td>0.0517</td>\n",
       "      <td>0.4200</td>\n",
       "      <td>0.133000</td>\n",
       "      <td>0.114</td>\n",
       "      <td>0.436</td>\n",
       "      <td>124.372</td>\n",
       "      <td>8</td>\n",
       "      <td>10</td>\n",
       "      <td>8</td>\n",
       "      <td>0</td>\n",
       "      <td>2</td>\n",
       "      <td>1</td>\n",
       "      <td>5</td>\n",
       "      <td>2</td>\n",
       "      <td>2</td>\n",
       "    </tr>\n",
       "  </tbody>\n",
       "</table>\n",
       "</div>"
      ],
      "text/plain": [
       "   danceability  energy  key  loudness  mode  speechiness  acousticness  \\\n",
       "0         0.724   0.856    8    -6.119     0       0.0283        0.0653   \n",
       "1         0.548   0.969    9    -4.631     0       0.0539        0.0410   \n",
       "2         0.583   0.940    2    -4.637     1       0.0346        0.1170   \n",
       "3         0.500   0.951    2    -4.849     1       0.0427        0.0341   \n",
       "4         0.758   0.935    8    -5.284     0       0.0517        0.4200   \n",
       "\n",
       "   instrumentalness  liveness  valence    tempo  DanInt  EneInt  KeyInt  \\\n",
       "0          0.000002     0.354    0.884  129.794       7       9       8   \n",
       "1          0.000039     0.303    0.892  136.958       5      10       9   \n",
       "2          0.000000     0.240    0.748  136.848       6      10       2   \n",
       "3          0.000000     0.416    0.676  134.741       5      10       2   \n",
       "4          0.133000     0.114    0.436  124.372       8      10       8   \n",
       "\n",
       "   ModInt  LouInt  SpeInt  AcoInt  InsInt  LivInt  \n",
       "0       0       2       1       1       1       4  \n",
       "1       0       1       1       1       1       4  \n",
       "2       1       1       1       2       1       3  \n",
       "3       1       1       1       1       1       5  \n",
       "4       0       2       1       5       2       2  "
      ]
     },
     "execution_count": 543,
     "metadata": {},
     "output_type": "execute_result"
    }
   ],
   "source": [
    "df.head()"
   ]
  },
  {
   "cell_type": "code",
   "execution_count": 544,
   "metadata": {},
   "outputs": [
    {
     "data": {
      "text/plain": [
       "(array([  5.,   8.,   9.,  14.,  20.,  22.,  24.,  33.,  33.,  40.]),\n",
       " array([ 0.166 ,  0.2466,  0.3272,  0.4078,  0.4884,  0.569 ,  0.6496,\n",
       "         0.7302,  0.8108,  0.8914,  0.972 ]),\n",
       " <a list of 10 Patch objects>)"
      ]
     },
     "execution_count": 544,
     "metadata": {},
     "output_type": "execute_result"
    },
    {
     "data": {
      "image/png": "[encoded data removed]",
      "text/plain": [
       "<matplotlib.figure.Figure at 0x1af13f98>"
      ]
     },
     "metadata": {},
     "output_type": "display_data"
    }
   ],
   "source": [
    "plt.hist(df[\"valence\"])"
   ]
  },
  {
   "cell_type": "code",
   "execution_count": 545,
   "metadata": {
    "collapsed": true
   },
   "outputs": [],
   "source": [
    "def getValencenessIndex(x):\n",
    "    for i in range(11):\n",
    "        if x < 0.1 * i:\n",
    "            return i\n",
    "df[\"ValInt\"] = df[\"valence\"].apply(lambda x: getValencenessIndex(x))"
   ]
  },
  {
   "cell_type": "code",
   "execution_count": 546,
   "metadata": {},
   "outputs": [
    {
     "data": {
      "text/plain": [
       "<matplotlib.axes._subplots.AxesSubplot at 0x1b0bd748>"
      ]
     },
     "execution_count": 546,
     "metadata": {},
     "output_type": "execute_result"
    },
    {
     "data": {
      "image/png": "[encoded data removed]",
      "text/plain": [
       "<matplotlib.figure.Figure at 0x1b094e80>"
      ]
     },
     "metadata": {},
     "output_type": "display_data"
    }
   ],
   "source": [
    "sns.countplot(df[\"ValInt\"])"
   ]
  },
  {
   "cell_type": "code",
   "execution_count": 547,
   "metadata": {},
   "outputs": [
    {
     "data": {
      "text/html": [
       "<div>\n",
       "<style>\n",
       "    .dataframe thead tr:only-child th {\n",
       "        text-align: right;\n",
       "    }\n",
       "\n",
       "    .dataframe thead th {\n",
       "        text-align: left;\n",
       "    }\n",
       "\n",
       "    .dataframe tbody tr th {\n",
       "        vertical-align: top;\n",
       "    }\n",
       "</style>\n",
       "<table border=\"1\" class=\"dataframe\">\n",
       "  <thead>\n",
       "    <tr style=\"text-align: right;\">\n",
       "      <th></th>\n",
       "      <th>danceability</th>\n",
       "      <th>energy</th>\n",
       "      <th>key</th>\n",
       "      <th>loudness</th>\n",
       "      <th>mode</th>\n",
       "      <th>speechiness</th>\n",
       "      <th>acousticness</th>\n",
       "      <th>instrumentalness</th>\n",
       "      <th>liveness</th>\n",
       "      <th>valence</th>\n",
       "      <th>...</th>\n",
       "      <th>DanInt</th>\n",
       "      <th>EneInt</th>\n",
       "      <th>KeyInt</th>\n",
       "      <th>ModInt</th>\n",
       "      <th>LouInt</th>\n",
       "      <th>SpeInt</th>\n",
       "      <th>AcoInt</th>\n",
       "      <th>InsInt</th>\n",
       "      <th>LivInt</th>\n",
       "      <th>ValInt</th>\n",
       "    </tr>\n",
       "  </thead>\n",
       "  <tbody>\n",
       "    <tr>\n",
       "      <th>0</th>\n",
       "      <td>0.724</td>\n",
       "      <td>0.856</td>\n",
       "      <td>8</td>\n",
       "      <td>-6.119</td>\n",
       "      <td>0</td>\n",
       "      <td>0.0283</td>\n",
       "      <td>0.0653</td>\n",
       "      <td>0.000002</td>\n",
       "      <td>0.354</td>\n",
       "      <td>0.884</td>\n",
       "      <td>...</td>\n",
       "      <td>7</td>\n",
       "      <td>9</td>\n",
       "      <td>8</td>\n",
       "      <td>0</td>\n",
       "      <td>2</td>\n",
       "      <td>1</td>\n",
       "      <td>1</td>\n",
       "      <td>1</td>\n",
       "      <td>4</td>\n",
       "      <td>9</td>\n",
       "    </tr>\n",
       "    <tr>\n",
       "      <th>1</th>\n",
       "      <td>0.548</td>\n",
       "      <td>0.969</td>\n",
       "      <td>9</td>\n",
       "      <td>-4.631</td>\n",
       "      <td>0</td>\n",
       "      <td>0.0539</td>\n",
       "      <td>0.0410</td>\n",
       "      <td>0.000039</td>\n",
       "      <td>0.303</td>\n",
       "      <td>0.892</td>\n",
       "      <td>...</td>\n",
       "      <td>5</td>\n",
       "      <td>10</td>\n",
       "      <td>9</td>\n",
       "      <td>0</td>\n",
       "      <td>1</td>\n",
       "      <td>1</td>\n",
       "      <td>1</td>\n",
       "      <td>1</td>\n",
       "      <td>4</td>\n",
       "      <td>9</td>\n",
       "    </tr>\n",
       "    <tr>\n",
       "      <th>2</th>\n",
       "      <td>0.583</td>\n",
       "      <td>0.940</td>\n",
       "      <td>2</td>\n",
       "      <td>-4.637</td>\n",
       "      <td>1</td>\n",
       "      <td>0.0346</td>\n",
       "      <td>0.1170</td>\n",
       "      <td>0.000000</td>\n",
       "      <td>0.240</td>\n",
       "      <td>0.748</td>\n",
       "      <td>...</td>\n",
       "      <td>6</td>\n",
       "      <td>10</td>\n",
       "      <td>2</td>\n",
       "      <td>1</td>\n",
       "      <td>1</td>\n",
       "      <td>1</td>\n",
       "      <td>2</td>\n",
       "      <td>1</td>\n",
       "      <td>3</td>\n",
       "      <td>8</td>\n",
       "    </tr>\n",
       "    <tr>\n",
       "      <th>3</th>\n",
       "      <td>0.500</td>\n",
       "      <td>0.951</td>\n",
       "      <td>2</td>\n",
       "      <td>-4.849</td>\n",
       "      <td>1</td>\n",
       "      <td>0.0427</td>\n",
       "      <td>0.0341</td>\n",
       "      <td>0.000000</td>\n",
       "      <td>0.416</td>\n",
       "      <td>0.676</td>\n",
       "      <td>...</td>\n",
       "      <td>5</td>\n",
       "      <td>10</td>\n",
       "      <td>2</td>\n",
       "      <td>1</td>\n",
       "      <td>1</td>\n",
       "      <td>1</td>\n",
       "      <td>1</td>\n",
       "      <td>1</td>\n",
       "      <td>5</td>\n",
       "      <td>7</td>\n",
       "    </tr>\n",
       "    <tr>\n",
       "      <th>4</th>\n",
       "      <td>0.758</td>\n",
       "      <td>0.935</td>\n",
       "      <td>8</td>\n",
       "      <td>-5.284</td>\n",
       "      <td>0</td>\n",
       "      <td>0.0517</td>\n",
       "      <td>0.4200</td>\n",
       "      <td>0.133000</td>\n",
       "      <td>0.114</td>\n",
       "      <td>0.436</td>\n",
       "      <td>...</td>\n",
       "      <td>8</td>\n",
       "      <td>10</td>\n",
       "      <td>8</td>\n",
       "      <td>0</td>\n",
       "      <td>2</td>\n",
       "      <td>1</td>\n",
       "      <td>5</td>\n",
       "      <td>2</td>\n",
       "      <td>2</td>\n",
       "      <td>5</td>\n",
       "    </tr>\n",
       "  </tbody>\n",
       "</table>\n",
       "<p>5 rows × 21 columns</p>\n",
       "</div>"
      ],
      "text/plain": [
       "   danceability  energy  key  loudness  mode  speechiness  acousticness  \\\n",
       "0         0.724   0.856    8    -6.119     0       0.0283        0.0653   \n",
       "1         0.548   0.969    9    -4.631     0       0.0539        0.0410   \n",
       "2         0.583   0.940    2    -4.637     1       0.0346        0.1170   \n",
       "3         0.500   0.951    2    -4.849     1       0.0427        0.0341   \n",
       "4         0.758   0.935    8    -5.284     0       0.0517        0.4200   \n",
       "\n",
       "   instrumentalness  liveness  valence   ...    DanInt  EneInt  KeyInt  \\\n",
       "0          0.000002     0.354    0.884   ...         7       9       8   \n",
       "1          0.000039     0.303    0.892   ...         5      10       9   \n",
       "2          0.000000     0.240    0.748   ...         6      10       2   \n",
       "3          0.000000     0.416    0.676   ...         5      10       2   \n",
       "4          0.133000     0.114    0.436   ...         8      10       8   \n",
       "\n",
       "   ModInt  LouInt  SpeInt  AcoInt  InsInt  LivInt  ValInt  \n",
       "0       0       2       1       1       1       4       9  \n",
       "1       0       1       1       1       1       4       9  \n",
       "2       1       1       1       2       1       3       8  \n",
       "3       1       1       1       1       1       5       7  \n",
       "4       0       2       1       5       2       2       5  \n",
       "\n",
       "[5 rows x 21 columns]"
      ]
     },
     "execution_count": 547,
     "metadata": {},
     "output_type": "execute_result"
    }
   ],
   "source": [
    "df.head()"
   ]
  },
  {
   "cell_type": "code",
   "execution_count": 548,
   "metadata": {},
   "outputs": [
    {
     "data": {
      "text/plain": [
       "<matplotlib.axes._subplots.AxesSubplot at 0x1b18cf60>"
      ]
     },
     "execution_count": 548,
     "metadata": {},
     "output_type": "execute_result"
    },
    {
     "data": {
      "image/png": "[encoded data removed]",
      "text/plain": [
       "<matplotlib.figure.Figure at 0x1ae9c438>"
      ]
     },
     "metadata": {},
     "output_type": "display_data"
    }
   ],
   "source": [
    "df[\"TemInt\"] = df[\"tempo\"].apply(lambda x: x**0.5)\n",
    "df[\"TemInt\"] = pd.cut(df[\"TemInt\"], 10)\n",
    "#plt.hist(df[\"TemInt\"])\n",
    "sns.countplot(df[\"TemInt\"])"
   ]
  },
  {
   "cell_type": "code",
   "execution_count": 549,
   "metadata": {},
   "outputs": [
    {
     "data": {
      "text/plain": [
       "(11.263, 11.793]    36\n",
       "(10.204, 10.734]    33\n",
       "(10.734, 11.263]    31\n",
       "(9.674, 10.204]     29\n",
       "(11.793, 12.323]    23\n",
       "(12.852, 13.382]    20\n",
       "(12.323, 12.852]    12\n",
       "(9.144, 9.674]       9\n",
       "(13.382, 13.912]     8\n",
       "(8.609, 9.144]       7\n",
       "Name: TemInt, dtype: int64"
      ]
     },
     "execution_count": 549,
     "metadata": {},
     "output_type": "execute_result"
    }
   ],
   "source": [
    "df[\"TemInt\"].value_counts()"
   ]
  },
  {
   "cell_type": "code",
   "execution_count": 550,
   "metadata": {
    "collapsed": true
   },
   "outputs": [],
   "source": [
    "def getTempoIndex(x):\n",
    "    x = x**0.5\n",
    "    if x <= 9.144:\n",
    "        return 1\n",
    "    if x <= 9.674:\n",
    "        return 2\n",
    "    if x <= 10.204:\n",
    "        return 3\n",
    "    if x <= 10.734:\n",
    "        return 4\n",
    "    if x <= 11.263:\n",
    "        return 5\n",
    "    if x <= 11.793:\n",
    "        return 6\n",
    "    if x <= 12.323:\n",
    "        return 7\n",
    "    if x <= 12.852:\n",
    "        return 8\n",
    "    if x <= 13.382:\n",
    "        return 9\n",
    "    return 10\n",
    "df[\"TemInt\"] = df[\"tempo\"].apply(lambda x: getTempoIndex(x))"
   ]
  },
  {
   "cell_type": "code",
   "execution_count": 551,
   "metadata": {},
   "outputs": [
    {
     "data": {
      "text/plain": [
       "<matplotlib.axes._subplots.AxesSubplot at 0x1b1a9dd8>"
      ]
     },
     "execution_count": 551,
     "metadata": {},
     "output_type": "execute_result"
    },
    {
     "data": {
      "image/png": "[encoded data removed]",
      "text/plain": [
       "<matplotlib.figure.Figure at 0x1b2675f8>"
      ]
     },
     "metadata": {},
     "output_type": "display_data"
    }
   ],
   "source": [
    "sns.countplot(df[\"TemInt\"])"
   ]
  },
  {
   "cell_type": "code",
   "execution_count": 552,
   "metadata": {},
   "outputs": [
    {
     "data": {
      "text/html": [
       "<div>\n",
       "<style>\n",
       "    .dataframe thead tr:only-child th {\n",
       "        text-align: right;\n",
       "    }\n",
       "\n",
       "    .dataframe thead th {\n",
       "        text-align: left;\n",
       "    }\n",
       "\n",
       "    .dataframe tbody tr th {\n",
       "        vertical-align: top;\n",
       "    }\n",
       "</style>\n",
       "<table border=\"1\" class=\"dataframe\">\n",
       "  <thead>\n",
       "    <tr style=\"text-align: right;\">\n",
       "      <th></th>\n",
       "      <th>danceability</th>\n",
       "      <th>energy</th>\n",
       "      <th>key</th>\n",
       "      <th>loudness</th>\n",
       "      <th>mode</th>\n",
       "      <th>speechiness</th>\n",
       "      <th>acousticness</th>\n",
       "      <th>instrumentalness</th>\n",
       "      <th>liveness</th>\n",
       "      <th>valence</th>\n",
       "      <th>...</th>\n",
       "      <th>EneInt</th>\n",
       "      <th>KeyInt</th>\n",
       "      <th>ModInt</th>\n",
       "      <th>LouInt</th>\n",
       "      <th>SpeInt</th>\n",
       "      <th>AcoInt</th>\n",
       "      <th>InsInt</th>\n",
       "      <th>LivInt</th>\n",
       "      <th>ValInt</th>\n",
       "      <th>TemInt</th>\n",
       "    </tr>\n",
       "  </thead>\n",
       "  <tbody>\n",
       "    <tr>\n",
       "      <th>0</th>\n",
       "      <td>0.724</td>\n",
       "      <td>0.856</td>\n",
       "      <td>8</td>\n",
       "      <td>-6.119</td>\n",
       "      <td>0</td>\n",
       "      <td>0.0283</td>\n",
       "      <td>0.0653</td>\n",
       "      <td>0.000002</td>\n",
       "      <td>0.354</td>\n",
       "      <td>0.884</td>\n",
       "      <td>...</td>\n",
       "      <td>9</td>\n",
       "      <td>8</td>\n",
       "      <td>0</td>\n",
       "      <td>2</td>\n",
       "      <td>1</td>\n",
       "      <td>1</td>\n",
       "      <td>1</td>\n",
       "      <td>4</td>\n",
       "      <td>9</td>\n",
       "      <td>6</td>\n",
       "    </tr>\n",
       "    <tr>\n",
       "      <th>1</th>\n",
       "      <td>0.548</td>\n",
       "      <td>0.969</td>\n",
       "      <td>9</td>\n",
       "      <td>-4.631</td>\n",
       "      <td>0</td>\n",
       "      <td>0.0539</td>\n",
       "      <td>0.0410</td>\n",
       "      <td>0.000039</td>\n",
       "      <td>0.303</td>\n",
       "      <td>0.892</td>\n",
       "      <td>...</td>\n",
       "      <td>10</td>\n",
       "      <td>9</td>\n",
       "      <td>0</td>\n",
       "      <td>1</td>\n",
       "      <td>1</td>\n",
       "      <td>1</td>\n",
       "      <td>1</td>\n",
       "      <td>4</td>\n",
       "      <td>9</td>\n",
       "      <td>6</td>\n",
       "    </tr>\n",
       "    <tr>\n",
       "      <th>2</th>\n",
       "      <td>0.583</td>\n",
       "      <td>0.940</td>\n",
       "      <td>2</td>\n",
       "      <td>-4.637</td>\n",
       "      <td>1</td>\n",
       "      <td>0.0346</td>\n",
       "      <td>0.1170</td>\n",
       "      <td>0.000000</td>\n",
       "      <td>0.240</td>\n",
       "      <td>0.748</td>\n",
       "      <td>...</td>\n",
       "      <td>10</td>\n",
       "      <td>2</td>\n",
       "      <td>1</td>\n",
       "      <td>1</td>\n",
       "      <td>1</td>\n",
       "      <td>2</td>\n",
       "      <td>1</td>\n",
       "      <td>3</td>\n",
       "      <td>8</td>\n",
       "      <td>6</td>\n",
       "    </tr>\n",
       "    <tr>\n",
       "      <th>3</th>\n",
       "      <td>0.500</td>\n",
       "      <td>0.951</td>\n",
       "      <td>2</td>\n",
       "      <td>-4.849</td>\n",
       "      <td>1</td>\n",
       "      <td>0.0427</td>\n",
       "      <td>0.0341</td>\n",
       "      <td>0.000000</td>\n",
       "      <td>0.416</td>\n",
       "      <td>0.676</td>\n",
       "      <td>...</td>\n",
       "      <td>10</td>\n",
       "      <td>2</td>\n",
       "      <td>1</td>\n",
       "      <td>1</td>\n",
       "      <td>1</td>\n",
       "      <td>1</td>\n",
       "      <td>1</td>\n",
       "      <td>5</td>\n",
       "      <td>7</td>\n",
       "      <td>6</td>\n",
       "    </tr>\n",
       "    <tr>\n",
       "      <th>4</th>\n",
       "      <td>0.758</td>\n",
       "      <td>0.935</td>\n",
       "      <td>8</td>\n",
       "      <td>-5.284</td>\n",
       "      <td>0</td>\n",
       "      <td>0.0517</td>\n",
       "      <td>0.4200</td>\n",
       "      <td>0.133000</td>\n",
       "      <td>0.114</td>\n",
       "      <td>0.436</td>\n",
       "      <td>...</td>\n",
       "      <td>10</td>\n",
       "      <td>8</td>\n",
       "      <td>0</td>\n",
       "      <td>2</td>\n",
       "      <td>1</td>\n",
       "      <td>5</td>\n",
       "      <td>2</td>\n",
       "      <td>2</td>\n",
       "      <td>5</td>\n",
       "      <td>5</td>\n",
       "    </tr>\n",
       "  </tbody>\n",
       "</table>\n",
       "<p>5 rows × 22 columns</p>\n",
       "</div>"
      ],
      "text/plain": [
       "   danceability  energy  key  loudness  mode  speechiness  acousticness  \\\n",
       "0         0.724   0.856    8    -6.119     0       0.0283        0.0653   \n",
       "1         0.548   0.969    9    -4.631     0       0.0539        0.0410   \n",
       "2         0.583   0.940    2    -4.637     1       0.0346        0.1170   \n",
       "3         0.500   0.951    2    -4.849     1       0.0427        0.0341   \n",
       "4         0.758   0.935    8    -5.284     0       0.0517        0.4200   \n",
       "\n",
       "   instrumentalness  liveness  valence   ...    EneInt  KeyInt  ModInt  \\\n",
       "0          0.000002     0.354    0.884   ...         9       8       0   \n",
       "1          0.000039     0.303    0.892   ...        10       9       0   \n",
       "2          0.000000     0.240    0.748   ...        10       2       1   \n",
       "3          0.000000     0.416    0.676   ...        10       2       1   \n",
       "4          0.133000     0.114    0.436   ...        10       8       0   \n",
       "\n",
       "   LouInt  SpeInt  AcoInt  InsInt  LivInt  ValInt  TemInt  \n",
       "0       2       1       1       1       4       9       6  \n",
       "1       1       1       1       1       4       9       6  \n",
       "2       1       1       2       1       3       8       6  \n",
       "3       1       1       1       1       5       7       6  \n",
       "4       2       1       5       2       2       5       5  \n",
       "\n",
       "[5 rows x 22 columns]"
      ]
     },
     "execution_count": 552,
     "metadata": {},
     "output_type": "execute_result"
    }
   ],
   "source": [
    "df.head()"
   ]
  },
  {
   "cell_type": "code",
   "execution_count": 553,
   "metadata": {},
   "outputs": [
    {
     "data": {
      "text/plain": [
       "Index(['danceability', 'energy', 'key', 'loudness', 'mode', 'speechiness',\n",
       "       'acousticness', 'instrumentalness', 'liveness', 'valence', 'tempo',\n",
       "       'DanInt', 'EneInt', 'KeyInt', 'ModInt', 'LouInt', 'SpeInt', 'AcoInt',\n",
       "       'InsInt', 'LivInt', 'ValInt', 'TemInt'],\n",
       "      dtype='object')"
      ]
     },
     "execution_count": 553,
     "metadata": {},
     "output_type": "execute_result"
    }
   ],
   "source": [
    "df.columns"
   ]
  },
  {
   "cell_type": "code",
   "execution_count": 554,
   "metadata": {},
   "outputs": [],
   "source": [
    "df = df.drop([\"danceability\", \"energy\", \"loudness\", \"speechiness\", \"acousticness\", \"instrumentalness\", \"liveness\", \"valence\", \"tempo\", \"key\", \"mode\"], axis = 1)"
   ]
  },
  {
   "cell_type": "code",
   "execution_count": 642,
   "metadata": {},
   "outputs": [
    {
     "data": {
      "text/html": [
       "<div>\n",
       "<style>\n",
       "    .dataframe thead tr:only-child th {\n",
       "        text-align: right;\n",
       "    }\n",
       "\n",
       "    .dataframe thead th {\n",
       "        text-align: left;\n",
       "    }\n",
       "\n",
       "    .dataframe tbody tr th {\n",
       "        vertical-align: top;\n",
       "    }\n",
       "</style>\n",
       "<table border=\"1\" class=\"dataframe\">\n",
       "  <thead>\n",
       "    <tr style=\"text-align: right;\">\n",
       "      <th></th>\n",
       "      <th>DanInt</th>\n",
       "      <th>EneInt</th>\n",
       "      <th>KeyInt</th>\n",
       "      <th>ModInt</th>\n",
       "      <th>LouInt</th>\n",
       "      <th>SpeInt</th>\n",
       "      <th>AcoInt</th>\n",
       "      <th>InsInt</th>\n",
       "      <th>LivInt</th>\n",
       "      <th>ValInt</th>\n",
       "      <th>TemInt</th>\n",
       "    </tr>\n",
       "  </thead>\n",
       "  <tbody>\n",
       "    <tr>\n",
       "      <th>0</th>\n",
       "      <td>7</td>\n",
       "      <td>9</td>\n",
       "      <td>8</td>\n",
       "      <td>0</td>\n",
       "      <td>2</td>\n",
       "      <td>1</td>\n",
       "      <td>1</td>\n",
       "      <td>1</td>\n",
       "      <td>4</td>\n",
       "      <td>9</td>\n",
       "      <td>6</td>\n",
       "    </tr>\n",
       "    <tr>\n",
       "      <th>1</th>\n",
       "      <td>5</td>\n",
       "      <td>10</td>\n",
       "      <td>9</td>\n",
       "      <td>0</td>\n",
       "      <td>1</td>\n",
       "      <td>1</td>\n",
       "      <td>1</td>\n",
       "      <td>1</td>\n",
       "      <td>4</td>\n",
       "      <td>9</td>\n",
       "      <td>6</td>\n",
       "    </tr>\n",
       "    <tr>\n",
       "      <th>2</th>\n",
       "      <td>6</td>\n",
       "      <td>10</td>\n",
       "      <td>2</td>\n",
       "      <td>1</td>\n",
       "      <td>1</td>\n",
       "      <td>1</td>\n",
       "      <td>2</td>\n",
       "      <td>1</td>\n",
       "      <td>3</td>\n",
       "      <td>8</td>\n",
       "      <td>6</td>\n",
       "    </tr>\n",
       "    <tr>\n",
       "      <th>3</th>\n",
       "      <td>5</td>\n",
       "      <td>10</td>\n",
       "      <td>2</td>\n",
       "      <td>1</td>\n",
       "      <td>1</td>\n",
       "      <td>1</td>\n",
       "      <td>1</td>\n",
       "      <td>1</td>\n",
       "      <td>5</td>\n",
       "      <td>7</td>\n",
       "      <td>6</td>\n",
       "    </tr>\n",
       "    <tr>\n",
       "      <th>4</th>\n",
       "      <td>8</td>\n",
       "      <td>10</td>\n",
       "      <td>8</td>\n",
       "      <td>0</td>\n",
       "      <td>2</td>\n",
       "      <td>1</td>\n",
       "      <td>5</td>\n",
       "      <td>2</td>\n",
       "      <td>2</td>\n",
       "      <td>5</td>\n",
       "      <td>5</td>\n",
       "    </tr>\n",
       "  </tbody>\n",
       "</table>\n",
       "</div>"
      ],
      "text/plain": [
       "   DanInt  EneInt  KeyInt  ModInt  LouInt  SpeInt  AcoInt  InsInt  LivInt  \\\n",
       "0       7       9       8       0       2       1       1       1       4   \n",
       "1       5      10       9       0       1       1       1       1       4   \n",
       "2       6      10       2       1       1       1       2       1       3   \n",
       "3       5      10       2       1       1       1       1       1       5   \n",
       "4       8      10       8       0       2       1       5       2       2   \n",
       "\n",
       "   ValInt  TemInt  \n",
       "0       9       6  \n",
       "1       9       6  \n",
       "2       8       6  \n",
       "3       7       6  \n",
       "4       5       5  "
      ]
     },
     "execution_count": 642,
     "metadata": {},
     "output_type": "execute_result"
    }
   ],
   "source": [
    "df.head()"
   ]
  },
  {
   "cell_type": "code",
   "execution_count": 662,
   "metadata": {},
   "outputs": [],
   "source": [
    "df = df.drop([\"ModInt\", \"KeyInt\", \"LouInt\"], axis = 1)\n",
    "#sns.countplot(df[\"TemInt\"])"
   ]
  },
  {
   "cell_type": "code",
   "execution_count": 663,
   "metadata": {},
   "outputs": [
    {
     "data": {
      "text/html": [
       "<div>\n",
       "<style>\n",
       "    .dataframe thead tr:only-child th {\n",
       "        text-align: right;\n",
       "    }\n",
       "\n",
       "    .dataframe thead th {\n",
       "        text-align: left;\n",
       "    }\n",
       "\n",
       "    .dataframe tbody tr th {\n",
       "        vertical-align: top;\n",
       "    }\n",
       "</style>\n",
       "<table border=\"1\" class=\"dataframe\">\n",
       "  <thead>\n",
       "    <tr style=\"text-align: right;\">\n",
       "      <th></th>\n",
       "      <th>DanInt</th>\n",
       "      <th>EneInt</th>\n",
       "      <th>SpeInt</th>\n",
       "      <th>AcoInt</th>\n",
       "      <th>InsInt</th>\n",
       "      <th>LivInt</th>\n",
       "      <th>ValInt</th>\n",
       "      <th>TemInt</th>\n",
       "    </tr>\n",
       "  </thead>\n",
       "  <tbody>\n",
       "    <tr>\n",
       "      <th>count</th>\n",
       "      <td>208.000000</td>\n",
       "      <td>208.000000</td>\n",
       "      <td>208.000000</td>\n",
       "      <td>208.000000</td>\n",
       "      <td>208.000000</td>\n",
       "      <td>208.000000</td>\n",
       "      <td>208.000000</td>\n",
       "      <td>208.000000</td>\n",
       "    </tr>\n",
       "    <tr>\n",
       "      <th>mean</th>\n",
       "      <td>5.860577</td>\n",
       "      <td>8.673077</td>\n",
       "      <td>1.091346</td>\n",
       "      <td>1.653846</td>\n",
       "      <td>1.317308</td>\n",
       "      <td>2.413462</td>\n",
       "      <td>7.456731</td>\n",
       "      <td>5.442308</td>\n",
       "    </tr>\n",
       "    <tr>\n",
       "      <th>std</th>\n",
       "      <td>1.723602</td>\n",
       "      <td>1.340144</td>\n",
       "      <td>0.349357</td>\n",
       "      <td>1.320732</td>\n",
       "      <td>1.287355</td>\n",
       "      <td>1.750697</td>\n",
       "      <td>2.030695</td>\n",
       "      <td>2.260037</td>\n",
       "    </tr>\n",
       "    <tr>\n",
       "      <th>min</th>\n",
       "      <td>1.000000</td>\n",
       "      <td>4.000000</td>\n",
       "      <td>1.000000</td>\n",
       "      <td>1.000000</td>\n",
       "      <td>1.000000</td>\n",
       "      <td>1.000000</td>\n",
       "      <td>2.000000</td>\n",
       "      <td>1.000000</td>\n",
       "    </tr>\n",
       "    <tr>\n",
       "      <th>25%</th>\n",
       "      <td>5.000000</td>\n",
       "      <td>8.000000</td>\n",
       "      <td>1.000000</td>\n",
       "      <td>1.000000</td>\n",
       "      <td>1.000000</td>\n",
       "      <td>1.000000</td>\n",
       "      <td>6.000000</td>\n",
       "      <td>4.000000</td>\n",
       "    </tr>\n",
       "    <tr>\n",
       "      <th>50%</th>\n",
       "      <td>6.000000</td>\n",
       "      <td>9.000000</td>\n",
       "      <td>1.000000</td>\n",
       "      <td>1.000000</td>\n",
       "      <td>1.000000</td>\n",
       "      <td>2.000000</td>\n",
       "      <td>8.000000</td>\n",
       "      <td>5.000000</td>\n",
       "    </tr>\n",
       "    <tr>\n",
       "      <th>75%</th>\n",
       "      <td>7.000000</td>\n",
       "      <td>10.000000</td>\n",
       "      <td>1.000000</td>\n",
       "      <td>2.000000</td>\n",
       "      <td>1.000000</td>\n",
       "      <td>3.000000</td>\n",
       "      <td>9.000000</td>\n",
       "      <td>7.000000</td>\n",
       "    </tr>\n",
       "    <tr>\n",
       "      <th>max</th>\n",
       "      <td>10.000000</td>\n",
       "      <td>10.000000</td>\n",
       "      <td>4.000000</td>\n",
       "      <td>8.000000</td>\n",
       "      <td>9.000000</td>\n",
       "      <td>10.000000</td>\n",
       "      <td>10.000000</td>\n",
       "      <td>10.000000</td>\n",
       "    </tr>\n",
       "  </tbody>\n",
       "</table>\n",
       "</div>"
      ],
      "text/plain": [
       "           DanInt      EneInt      SpeInt      AcoInt      InsInt      LivInt  \\\n",
       "count  208.000000  208.000000  208.000000  208.000000  208.000000  208.000000   \n",
       "mean     5.860577    8.673077    1.091346    1.653846    1.317308    2.413462   \n",
       "std      1.723602    1.340144    0.349357    1.320732    1.287355    1.750697   \n",
       "min      1.000000    4.000000    1.000000    1.000000    1.000000    1.000000   \n",
       "25%      5.000000    8.000000    1.000000    1.000000    1.000000    1.000000   \n",
       "50%      6.000000    9.000000    1.000000    1.000000    1.000000    2.000000   \n",
       "75%      7.000000   10.000000    1.000000    2.000000    1.000000    3.000000   \n",
       "max     10.000000   10.000000    4.000000    8.000000    9.000000   10.000000   \n",
       "\n",
       "           ValInt      TemInt  \n",
       "count  208.000000  208.000000  \n",
       "mean     7.456731    5.442308  \n",
       "std      2.030695    2.260037  \n",
       "min      2.000000    1.000000  \n",
       "25%      6.000000    4.000000  \n",
       "50%      8.000000    5.000000  \n",
       "75%      9.000000    7.000000  \n",
       "max     10.000000   10.000000  "
      ]
     },
     "execution_count": 663,
     "metadata": {},
     "output_type": "execute_result"
    }
   ],
   "source": [
    "#sns.pairplot(df)\n",
    "df.describe()"
   ]
  },
  {
   "cell_type": "code",
   "execution_count": 664,
   "metadata": {
    "collapsed": true
   },
   "outputs": [],
   "source": [
    "from sklearn.preprocessing import StandardScaler\n",
    "scaler = StandardScaler()\n",
    "scaler.fit(df)\n",
    "scaled_data = scaler.transform(df)"
   ]
  },
  {
   "cell_type": "code",
   "execution_count": 665,
   "metadata": {},
   "outputs": [
    {
     "data": {
      "text/plain": [
       "PCA(copy=True, iterated_power='auto', n_components=2, random_state=None,\n",
       "  svd_solver='auto', tol=0.0, whiten=False)"
      ]
     },
     "execution_count": 665,
     "metadata": {},
     "output_type": "execute_result"
    }
   ],
   "source": [
    "from sklearn.decomposition import PCA\n",
    "pca = PCA(n_components=2)\n",
    "pca.fit(scaled_data)"
   ]
  },
  {
   "cell_type": "code",
   "execution_count": 666,
   "metadata": {
    "collapsed": true
   },
   "outputs": [],
   "source": [
    "x_pca = pca.transform(scaled_data)\n",
    "#scaled_data.shape\n",
    "#x_pca.shape"
   ]
  },
  {
   "cell_type": "code",
   "execution_count": 667,
   "metadata": {},
   "outputs": [
    {
     "data": {
      "text/plain": [
       "<matplotlib.collections.PathCollection at 0x1ed26f28>"
      ]
     },
     "execution_count": 667,
     "metadata": {},
     "output_type": "execute_result"
    },
    {
     "data": {
      "image/png": "[encoded data removed]",
      "text/plain": [
       "<matplotlib.figure.Figure at 0x24a50e48>"
      ]
     },
     "metadata": {},
     "output_type": "display_data"
    }
   ],
   "source": [
    "plt.figure(figsize=(10,10))\n",
    "plt.scatter(x_pca[:,0],x_pca[:,1])"
   ]
  },
  {
   "cell_type": "code",
   "execution_count": 668,
   "metadata": {},
   "outputs": [
    {
     "data": {
      "text/plain": [
       "<matplotlib.axes._subplots.AxesSubplot at 0x24a278d0>"
      ]
     },
     "execution_count": 668,
     "metadata": {},
     "output_type": "execute_result"
    },
    {
     "data": {
      "image/png": "[encoded data removed]",
      "text/plain": [
       "<matplotlib.figure.Figure at 0x240ab518>"
      ]
     },
     "metadata": {},
     "output_type": "display_data"
    }
   ],
   "source": [
    "sns.distplot(x_pca[:,1])"
   ]
  },
  {
   "cell_type": "code",
   "execution_count": 717,
   "metadata": {},
   "outputs": [
    {
     "data": {
      "text/plain": [
       "<matplotlib.axes._subplots.AxesSubplot at 0x24352860>"
      ]
     },
     "execution_count": 717,
     "metadata": {},
     "output_type": "execute_result"
    },
    {
     "data": {
      "image/png": "[encoded data removed]",
      "text/plain": [
       "<matplotlib.figure.Figure at 0x2429e668>"
      ]
     },
     "metadata": {},
     "output_type": "display_data"
    }
   ],
   "source": [
    "sns.distplot(x_pca[:,0])"
   ]
  },
  {
   "cell_type": "code",
   "execution_count": 708,
   "metadata": {
    "collapsed": true
   },
   "outputs": [],
   "source": [
    "ndf = pd.DataFrame(x_pca, columns =[\"p1\", \"p2\"])"
   ]
  },
  {
   "cell_type": "code",
   "execution_count": 709,
   "metadata": {
    "collapsed": true
   },
   "outputs": [],
   "source": [
    "ndf = ndf.drop(\"p2\", axis = 1)"
   ]
  },
  {
   "cell_type": "code",
   "execution_count": 710,
   "metadata": {},
   "outputs": [
    {
     "data": {
      "text/html": [
       "<div>\n",
       "<style>\n",
       "    .dataframe thead tr:only-child th {\n",
       "        text-align: right;\n",
       "    }\n",
       "\n",
       "    .dataframe thead th {\n",
       "        text-align: left;\n",
       "    }\n",
       "\n",
       "    .dataframe tbody tr th {\n",
       "        vertical-align: top;\n",
       "    }\n",
       "</style>\n",
       "<table border=\"1\" class=\"dataframe\">\n",
       "  <thead>\n",
       "    <tr style=\"text-align: right;\">\n",
       "      <th></th>\n",
       "      <th>p1</th>\n",
       "    </tr>\n",
       "  </thead>\n",
       "  <tbody>\n",
       "    <tr>\n",
       "      <th>0</th>\n",
       "      <td>0.141335</td>\n",
       "    </tr>\n",
       "    <tr>\n",
       "      <th>1</th>\n",
       "      <td>1.201734</td>\n",
       "    </tr>\n",
       "    <tr>\n",
       "      <th>2</th>\n",
       "      <td>0.496219</td>\n",
       "    </tr>\n",
       "    <tr>\n",
       "      <th>3</th>\n",
       "      <td>1.664258</td>\n",
       "    </tr>\n",
       "    <tr>\n",
       "      <th>4</th>\n",
       "      <td>-1.038655</td>\n",
       "    </tr>\n",
       "  </tbody>\n",
       "</table>\n",
       "</div>"
      ],
      "text/plain": [
       "         p1\n",
       "0  0.141335\n",
       "1  1.201734\n",
       "2  0.496219\n",
       "3  1.664258\n",
       "4 -1.038655"
      ]
     },
     "execution_count": 710,
     "metadata": {},
     "output_type": "execute_result"
    }
   ],
   "source": [
    "ndf.head()"
   ]
  },
  {
   "cell_type": "code",
   "execution_count": 672,
   "metadata": {},
   "outputs": [
    {
     "data": {
      "image/png": "[encoded data removed]",
      "text/plain": [
       "<matplotlib.figure.Figure at 0x227b9710>"
      ]
     },
     "metadata": {},
     "output_type": "display_data"
    }
   ],
   "source": [
    "sns.jointplot(x= \"p1\", y= \"p2\", data=ndf, kind=\"kde\");"
   ]
  },
  {
   "cell_type": "code",
   "execution_count": 715,
   "metadata": {},
   "outputs": [
    {
     "data": {
      "image/png": "[encoded data removed]",
      "text/plain": [
       "<matplotlib.figure.Figure at 0x2429e7f0>"
      ]
     },
     "metadata": {},
     "output_type": "display_data"
    }
   ],
   "source": [
    "plt.figure() \n",
    "plt.xlabel(\"p1\") \n",
    "plt.ylabel(\"p2\") \n",
    "plt.plot(x_pca[:,0],x_pca[:,0], \"b*\")\n",
    "plt.plot(x_pca[201,0],x_pca[201,0],\"ro\")\n",
    "plt.show()"
   ]
  },
  {
   "cell_type": "code",
   "execution_count": 696,
   "metadata": {
    "collapsed": true
   },
   "outputs": [],
   "source": [
    "def estimateGaussian(dataset):\n",
    "    mu = np.mean(dataset, axis=0)\n",
    "    sigma = np.cov(dataset.T)\n",
    "    return mu, sigma"
   ]
  },
  {
   "cell_type": "code",
   "execution_count": 697,
   "metadata": {
    "collapsed": true
   },
   "outputs": [],
   "source": [
    "from scipy.stats import multivariate_normal\n",
    "def multivariateGaussian(dataset,mu,sigma):\n",
    "    p = multivariate_normal(mean=mu, cov=sigma)\n",
    "    return p.pdf(dataset)"
   ]
  },
  {
   "cell_type": "code",
   "execution_count": 698,
   "metadata": {
    "collapsed": true
   },
   "outputs": [],
   "source": [
    "def selectThresholdByCV(probs,gt):\n",
    "    best_epsilon = 0\n",
    "    best_f1 = 0\n",
    "    f = 0\n",
    "    stepsize = (max(probs) - min(probs)) / 1000;\n",
    "    epsilons = np.arange(min(probs),max(probs),stepsize)\n",
    "    for epsilon in np.nditer(epsilons):\n",
    "        predictions = (probs < epsilon)\n",
    "        f = f1_score(gt, predictions, average = \"binary\")\n",
    "        if f > best_f1:\n",
    "            best_f1 = f\n",
    "            best_epsilon = epsilon\n",
    "    return best_f1, best_epsilon"
   ]
  },
  {
   "cell_type": "code",
   "execution_count": 711,
   "metadata": {},
   "outputs": [],
   "source": [
    "mu, sigma = estimateGaussian(ndf)\n",
    "p = multivariateGaussian(ndf,mu,sigma)"
   ]
  },
  {
   "cell_type": "code",
   "execution_count": 735,
   "metadata": {
    "collapsed": true
   },
   "outputs": [],
   "source": [
    "#outliers = np.asarray(np.where(p < 0.0096))\n",
    "#outliers = np.asarray(np.where(p < 0.05))\n",
    "outliers = np.asarray(np.where(p < 0.028))"
   ]
  },
  {
   "cell_type": "code",
   "execution_count": 736,
   "metadata": {},
   "outputs": [
    {
     "data": {
      "text/plain": [
       "array([[ 42, 125, 190, 193, 200, 201]], dtype=int64)"
      ]
     },
     "execution_count": 736,
     "metadata": {},
     "output_type": "execute_result"
    }
   ],
   "source": [
    "outliers"
   ]
  },
  {
   "cell_type": "code",
   "execution_count": 737,
   "metadata": {},
   "outputs": [
    {
     "name": "stdout",
     "output_type": "stream",
     "text": [
      "42     Tele-Ka - Me Ver?s Volver Gira 2007\n",
      "125     We Will Rock You - Remastered 2011\n",
      "190          No Me Arrepiento de Este Amor\n",
      "193                              Mil Horas\n",
      "200                                  Cielo\n",
      "201       Conteo Regresivo - Salsa Version\n",
      "Name: Name, dtype: object\n"
     ]
    }
   ],
   "source": [
    "orig = pd.read_csv(\"spotify.csv\")\n",
    "#orig.columns\n",
    "for out in outliers:\n",
    "    print(orig.iloc[out][\"Name\"])"
   ]
  },
  {
   "cell_type": "code",
   "execution_count": 738,
   "metadata": {},
   "outputs": [
    {
     "data": {
      "text/plain": [
       "False    207\n",
       "True       1\n",
       "Name: Name, dtype: int64"
      ]
     },
     "execution_count": 738,
     "metadata": {},
     "output_type": "execute_result"
    }
   ],
   "source": [
    "tmp = orig[\"Name\"].apply(lambda x: \"Regresivo\" in x)\n",
    "tmp.value_counts()"
   ]
  },
  {
   "cell_type": "code",
   "execution_count": 739,
   "metadata": {},
   "outputs": [
    {
     "data": {
      "image/png": "[encoded data removed]",
      "text/plain": [
       "<matplotlib.figure.Figure at 0x25b7d080>"
      ]
     },
     "metadata": {},
     "output_type": "display_data"
    }
   ],
   "source": [
    "plt.figure() \n",
    "plt.xlabel(\"PCA - Parameter 1\") \n",
    "plt.ylabel(\"PCA - Parameter 2\") \n",
    "plt.plot(x_pca[:,0],x_pca[:,0],\"b*\")\n",
    "plt.plot(x_pca[outliers,0],x_pca[outliers,0],\"ro\")\n",
    "#plt.show()\n",
    "plt.savefig('anomaly.png') "
   ]
  },
  {
   "cell_type": "code",
   "execution_count": 490,
   "metadata": {},
   "outputs": [
    {
     "data": {
      "text/plain": [
       "<matplotlib.figure.Figure at 0x18f26d68>"
      ]
     },
     "metadata": {},
     "output_type": "display_data"
    }
   ],
   "source": [
    "plt.savefig('anomaly.png') "
   ]
  },
  {
   "cell_type": "code",
   "execution_count": 740,
   "metadata": {},
   "outputs": [
    {
     "data": {
      "text/plain": [
       "0.29940289638639511"
      ]
     },
     "execution_count": 740,
     "metadata": {},
     "output_type": "execute_result"
    }
   ],
   "source": [
    "p.max()"
   ]
  },
  {
   "cell_type": "code",
   "execution_count": 741,
   "metadata": {},
   "outputs": [
    {
     "data": {
      "text/plain": [
       "0.012678373842907514"
      ]
     },
     "execution_count": 741,
     "metadata": {},
     "output_type": "execute_result"
    }
   ],
   "source": [
    "p.min()"
   ]
  },
  {
   "cell_type": "code",
   "execution_count": 746,
   "metadata": {},
   "outputs": [
    {
     "data": {
      "text/plain": [
       "0.027900322348610382"
      ]
     },
     "execution_count": 746,
     "metadata": {},
     "output_type": "execute_result"
    }
   ],
   "source": [
    "p[201]"
   ]
  },
  {
   "cell_type": "code",
   "execution_count": 743,
   "metadata": {},
   "outputs": [
    {
     "data": {
      "text/plain": [
       "\"I'll Do You\""
      ]
     },
     "execution_count": 743,
     "metadata": {},
     "output_type": "execute_result"
    }
   ],
   "source": [
    "orig.iloc[p.argmax()][\"Name\"]"
   ]
  },
  {
   "cell_type": "code",
   "execution_count": 744,
   "metadata": {},
   "outputs": [
    {
     "data": {
      "text/plain": [
       "'Tele-Ka - Me Ver?s Volver Gira 2007'"
      ]
     },
     "execution_count": 744,
     "metadata": {},
     "output_type": "execute_result"
    }
   ],
   "source": [
    "orig.iloc[p.argmin()][\"Name\"]"
   ]
  },
  {
   "cell_type": "code",
   "execution_count": null,
   "metadata": {
    "collapsed": true
   },
   "outputs": [],
   "source": []
  }
 ],
 "metadata": {
  "kernelspec": {
   "display_name": "Python 3",
   "language": "python",
   "name": "python3"
  },
  "language_info": {
   "codemirror_mode": {
    "name": "ipython",
    "version": 3
   },
   "file_extension": ".py",
   "mimetype": "text/x-python",
   "name": "python",
   "nbconvert_exporter": "python",
   "pygments_lexer": "ipython3",
   "version": "3.6.1"
  }
 },
 "nbformat": 4,
 "nbformat_minor": 2
}
