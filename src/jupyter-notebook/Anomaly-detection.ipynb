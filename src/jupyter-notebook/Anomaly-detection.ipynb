{
 "cells": [
  {
   "cell_type": "code",
   "execution_count": 269,
   "metadata": {
    "collapsed": true
   },
   "outputs": [],
   "source": [
    "import numpy as np\n",
    "import pandas as pd\n",
    "import matplotlib.pyplot as plt\n",
    "import seaborn as sns\n",
    "%matplotlib inline\n",
    "# https://aqibsaeed.github.io/2016-07-17-anomaly-detection/"
   ]
  },
  {
   "cell_type": "code",
   "execution_count": 188,
   "metadata": {
    "collapsed": true
   },
   "outputs": [],
   "source": [
    "df = pd.read_csv(\"spotify.csv\")"
   ]
  },
  {
   "cell_type": "code",
   "execution_count": 190,
   "metadata": {},
   "outputs": [
    {
     "data": {
      "text/html": [
       "<div>\n",
       "<style>\n",
       "    .dataframe thead tr:only-child th {\n",
       "        text-align: right;\n",
       "    }\n",
       "\n",
       "    .dataframe thead th {\n",
       "        text-align: left;\n",
       "    }\n",
       "\n",
       "    .dataframe tbody tr th {\n",
       "        vertical-align: top;\n",
       "    }\n",
       "</style>\n",
       "<table border=\"1\" class=\"dataframe\">\n",
       "  <thead>\n",
       "    <tr style=\"text-align: right;\">\n",
       "      <th></th>\n",
       "      <th>#</th>\n",
       "      <th>id</th>\n",
       "      <th>Name</th>\n",
       "      <th>danceability</th>\n",
       "      <th>energy</th>\n",
       "      <th>key</th>\n",
       "      <th>loudness</th>\n",
       "      <th>mode</th>\n",
       "      <th>speechiness</th>\n",
       "      <th>acousticness</th>\n",
       "      <th>instrumentalness</th>\n",
       "      <th>liveness</th>\n",
       "      <th>valence</th>\n",
       "      <th>tempo</th>\n",
       "      <th>duration_ms</th>\n",
       "      <th>time_signature</th>\n",
       "    </tr>\n",
       "  </thead>\n",
       "  <tbody>\n",
       "    <tr>\n",
       "      <th>0</th>\n",
       "      <td>0</td>\n",
       "      <td>1qvY1z3Wm3sAYeHfPTnrbI</td>\n",
       "      <td>La Muralla Verde</td>\n",
       "      <td>0.724</td>\n",
       "      <td>0.856</td>\n",
       "      <td>8</td>\n",
       "      <td>-6.119</td>\n",
       "      <td>0</td>\n",
       "      <td>0.0283</td>\n",
       "      <td>0.0653</td>\n",
       "      <td>0.000002</td>\n",
       "      <td>0.354</td>\n",
       "      <td>0.884</td>\n",
       "      <td>129.794</td>\n",
       "      <td>161800</td>\n",
       "      <td>4</td>\n",
       "    </tr>\n",
       "    <tr>\n",
       "      <th>1</th>\n",
       "      <td>1</td>\n",
       "      <td>2tgUxOJHTjFxKHmfhyZGuS</td>\n",
       "      <td>Por El Resto</td>\n",
       "      <td>0.548</td>\n",
       "      <td>0.969</td>\n",
       "      <td>9</td>\n",
       "      <td>-4.631</td>\n",
       "      <td>0</td>\n",
       "      <td>0.0539</td>\n",
       "      <td>0.0410</td>\n",
       "      <td>0.000039</td>\n",
       "      <td>0.303</td>\n",
       "      <td>0.892</td>\n",
       "      <td>136.958</td>\n",
       "      <td>265627</td>\n",
       "      <td>4</td>\n",
       "    </tr>\n",
       "    <tr>\n",
       "      <th>2</th>\n",
       "      <td>2</td>\n",
       "      <td>2vR0SW93BdIciNlqeJVSch</td>\n",
       "      <td>Te V? en un Tren</td>\n",
       "      <td>0.583</td>\n",
       "      <td>0.940</td>\n",
       "      <td>2</td>\n",
       "      <td>-4.637</td>\n",
       "      <td>1</td>\n",
       "      <td>0.0346</td>\n",
       "      <td>0.1170</td>\n",
       "      <td>0.000000</td>\n",
       "      <td>0.240</td>\n",
       "      <td>0.748</td>\n",
       "      <td>136.848</td>\n",
       "      <td>245267</td>\n",
       "      <td>4</td>\n",
       "    </tr>\n",
       "    <tr>\n",
       "      <th>3</th>\n",
       "      <td>3</td>\n",
       "      <td>4BlMZN5TUA3O1NbtnMZOEh</td>\n",
       "      <td>El Extra?o Del Pelo Largo</td>\n",
       "      <td>0.500</td>\n",
       "      <td>0.951</td>\n",
       "      <td>2</td>\n",
       "      <td>-4.849</td>\n",
       "      <td>1</td>\n",
       "      <td>0.0427</td>\n",
       "      <td>0.0341</td>\n",
       "      <td>0.000000</td>\n",
       "      <td>0.416</td>\n",
       "      <td>0.676</td>\n",
       "      <td>134.741</td>\n",
       "      <td>173867</td>\n",
       "      <td>4</td>\n",
       "    </tr>\n",
       "    <tr>\n",
       "      <th>4</th>\n",
       "      <td>4</td>\n",
       "      <td>09TTeexnlKewZdjOak2sV2</td>\n",
       "      <td>Nada Personal - Remasterizado 2007</td>\n",
       "      <td>0.758</td>\n",
       "      <td>0.935</td>\n",
       "      <td>8</td>\n",
       "      <td>-5.284</td>\n",
       "      <td>0</td>\n",
       "      <td>0.0517</td>\n",
       "      <td>0.4200</td>\n",
       "      <td>0.133000</td>\n",
       "      <td>0.114</td>\n",
       "      <td>0.436</td>\n",
       "      <td>124.372</td>\n",
       "      <td>292573</td>\n",
       "      <td>4</td>\n",
       "    </tr>\n",
       "  </tbody>\n",
       "</table>\n",
       "</div>"
      ],
      "text/plain": [
       "   #                      id                                Name  \\\n",
       "0  0  1qvY1z3Wm3sAYeHfPTnrbI                    La Muralla Verde   \n",
       "1  1  2tgUxOJHTjFxKHmfhyZGuS                        Por El Resto   \n",
       "2  2  2vR0SW93BdIciNlqeJVSch                    Te V? en un Tren   \n",
       "3  3  4BlMZN5TUA3O1NbtnMZOEh           El Extra?o Del Pelo Largo   \n",
       "4  4  09TTeexnlKewZdjOak2sV2  Nada Personal - Remasterizado 2007   \n",
       "\n",
       "   danceability  energy  key  loudness  mode  speechiness  acousticness  \\\n",
       "0         0.724   0.856    8    -6.119     0       0.0283        0.0653   \n",
       "1         0.548   0.969    9    -4.631     0       0.0539        0.0410   \n",
       "2         0.583   0.940    2    -4.637     1       0.0346        0.1170   \n",
       "3         0.500   0.951    2    -4.849     1       0.0427        0.0341   \n",
       "4         0.758   0.935    8    -5.284     0       0.0517        0.4200   \n",
       "\n",
       "   instrumentalness  liveness  valence    tempo  duration_ms  time_signature  \n",
       "0          0.000002     0.354    0.884  129.794       161800               4  \n",
       "1          0.000039     0.303    0.892  136.958       265627               4  \n",
       "2          0.000000     0.240    0.748  136.848       245267               4  \n",
       "3          0.000000     0.416    0.676  134.741       173867               4  \n",
       "4          0.133000     0.114    0.436  124.372       292573               4  "
      ]
     },
     "execution_count": 190,
     "metadata": {},
     "output_type": "execute_result"
    }
   ],
   "source": [
    "df.head()"
   ]
  },
  {
   "cell_type": "code",
   "execution_count": 191,
   "metadata": {},
   "outputs": [
    {
     "data": {
      "text/plain": [
       "9     28\n",
       "7     27\n",
       "4     27\n",
       "2     25\n",
       "0     25\n",
       "11    16\n",
       "1     15\n",
       "5     13\n",
       "6     12\n",
       "8      9\n",
       "10     6\n",
       "3      5\n",
       "Name: key, dtype: int64"
      ]
     },
     "execution_count": 191,
     "metadata": {},
     "output_type": "execute_result"
    }
   ],
   "source": [
    "df[\"key\"].value_counts()"
   ]
  },
  {
   "cell_type": "code",
   "execution_count": 192,
   "metadata": {},
   "outputs": [],
   "source": [
    "df = df.drop(\"#\", axis = 1)\n",
    "df = df.drop(\"id\", axis = 1)\n",
    "df = df.drop(\"Name\", axis = 1)\n",
    "df = df.drop(\"duration_ms\", axis = 1)\n",
    "df = df.drop(\"time_signature\", axis = 1)"
   ]
  },
  {
   "cell_type": "code",
   "execution_count": 193,
   "metadata": {},
   "outputs": [
    {
     "data": {
      "text/html": [
       "<div>\n",
       "<style>\n",
       "    .dataframe thead tr:only-child th {\n",
       "        text-align: right;\n",
       "    }\n",
       "\n",
       "    .dataframe thead th {\n",
       "        text-align: left;\n",
       "    }\n",
       "\n",
       "    .dataframe tbody tr th {\n",
       "        vertical-align: top;\n",
       "    }\n",
       "</style>\n",
       "<table border=\"1\" class=\"dataframe\">\n",
       "  <thead>\n",
       "    <tr style=\"text-align: right;\">\n",
       "      <th></th>\n",
       "      <th>danceability</th>\n",
       "      <th>energy</th>\n",
       "      <th>key</th>\n",
       "      <th>loudness</th>\n",
       "      <th>mode</th>\n",
       "      <th>speechiness</th>\n",
       "      <th>acousticness</th>\n",
       "      <th>instrumentalness</th>\n",
       "      <th>liveness</th>\n",
       "      <th>valence</th>\n",
       "      <th>tempo</th>\n",
       "    </tr>\n",
       "  </thead>\n",
       "  <tbody>\n",
       "    <tr>\n",
       "      <th>0</th>\n",
       "      <td>0.724</td>\n",
       "      <td>0.856</td>\n",
       "      <td>8</td>\n",
       "      <td>-6.119</td>\n",
       "      <td>0</td>\n",
       "      <td>0.0283</td>\n",
       "      <td>0.0653</td>\n",
       "      <td>0.000002</td>\n",
       "      <td>0.354</td>\n",
       "      <td>0.884</td>\n",
       "      <td>129.794</td>\n",
       "    </tr>\n",
       "    <tr>\n",
       "      <th>1</th>\n",
       "      <td>0.548</td>\n",
       "      <td>0.969</td>\n",
       "      <td>9</td>\n",
       "      <td>-4.631</td>\n",
       "      <td>0</td>\n",
       "      <td>0.0539</td>\n",
       "      <td>0.0410</td>\n",
       "      <td>0.000039</td>\n",
       "      <td>0.303</td>\n",
       "      <td>0.892</td>\n",
       "      <td>136.958</td>\n",
       "    </tr>\n",
       "    <tr>\n",
       "      <th>2</th>\n",
       "      <td>0.583</td>\n",
       "      <td>0.940</td>\n",
       "      <td>2</td>\n",
       "      <td>-4.637</td>\n",
       "      <td>1</td>\n",
       "      <td>0.0346</td>\n",
       "      <td>0.1170</td>\n",
       "      <td>0.000000</td>\n",
       "      <td>0.240</td>\n",
       "      <td>0.748</td>\n",
       "      <td>136.848</td>\n",
       "    </tr>\n",
       "    <tr>\n",
       "      <th>3</th>\n",
       "      <td>0.500</td>\n",
       "      <td>0.951</td>\n",
       "      <td>2</td>\n",
       "      <td>-4.849</td>\n",
       "      <td>1</td>\n",
       "      <td>0.0427</td>\n",
       "      <td>0.0341</td>\n",
       "      <td>0.000000</td>\n",
       "      <td>0.416</td>\n",
       "      <td>0.676</td>\n",
       "      <td>134.741</td>\n",
       "    </tr>\n",
       "    <tr>\n",
       "      <th>4</th>\n",
       "      <td>0.758</td>\n",
       "      <td>0.935</td>\n",
       "      <td>8</td>\n",
       "      <td>-5.284</td>\n",
       "      <td>0</td>\n",
       "      <td>0.0517</td>\n",
       "      <td>0.4200</td>\n",
       "      <td>0.133000</td>\n",
       "      <td>0.114</td>\n",
       "      <td>0.436</td>\n",
       "      <td>124.372</td>\n",
       "    </tr>\n",
       "  </tbody>\n",
       "</table>\n",
       "</div>"
      ],
      "text/plain": [
       "   danceability  energy  key  loudness  mode  speechiness  acousticness  \\\n",
       "0         0.724   0.856    8    -6.119     0       0.0283        0.0653   \n",
       "1         0.548   0.969    9    -4.631     0       0.0539        0.0410   \n",
       "2         0.583   0.940    2    -4.637     1       0.0346        0.1170   \n",
       "3         0.500   0.951    2    -4.849     1       0.0427        0.0341   \n",
       "4         0.758   0.935    8    -5.284     0       0.0517        0.4200   \n",
       "\n",
       "   instrumentalness  liveness  valence    tempo  \n",
       "0          0.000002     0.354    0.884  129.794  \n",
       "1          0.000039     0.303    0.892  136.958  \n",
       "2          0.000000     0.240    0.748  136.848  \n",
       "3          0.000000     0.416    0.676  134.741  \n",
       "4          0.133000     0.114    0.436  124.372  "
      ]
     },
     "execution_count": 193,
     "metadata": {},
     "output_type": "execute_result"
    }
   ],
   "source": [
    "df.head()"
   ]
  },
  {
   "cell_type": "code",
   "execution_count": 91,
   "metadata": {},
   "outputs": [
    {
     "data": {
      "text/plain": [
       "Index(['danceability', 'energy', 'key', 'loudness', 'mode', 'speechiness',\n",
       "       'acousticness', 'instrumentalness', 'liveness', 'valence', 'tempo',\n",
       "       'duration_ms', 'lEnergy'],\n",
       "      dtype='object')"
      ]
     },
     "execution_count": 91,
     "metadata": {},
     "output_type": "execute_result"
    }
   ],
   "source": [
    "df.columns"
   ]
  },
  {
   "cell_type": "code",
   "execution_count": 134,
   "metadata": {},
   "outputs": [],
   "source": [
    "df[\"lSpeechiness\"] = df[\"speechiness\"].apply(lambda x: np.log(x))"
   ]
  },
  {
   "cell_type": "code",
   "execution_count": 135,
   "metadata": {},
   "outputs": [
    {
     "data": {
      "text/plain": [
       "<matplotlib.axes._subplots.AxesSubplot at 0x2fd3c7f0>"
      ]
     },
     "execution_count": 135,
     "metadata": {},
     "output_type": "execute_result"
    },
    {
     "data": {
      "image/png": "[encoded data removed]",
      "text/plain": [
       "<matplotlib.figure.Figure at 0x2fd647b8>"
      ]
     },
     "metadata": {},
     "output_type": "display_data"
    }
   ],
   "source": [
    "sns.distplot(df[\"lSpeechiness\"])"
   ]
  },
  {
   "cell_type": "code",
   "execution_count": 113,
   "metadata": {},
   "outputs": [
    {
     "data": {
      "text/plain": [
       "<matplotlib.axes._subplots.AxesSubplot at 0x2f05bd68>"
      ]
     },
     "execution_count": 113,
     "metadata": {},
     "output_type": "execute_result"
    },
    {
     "data": {
      "image/png": "[encoded data removed]",
      "text/plain": [
       "<matplotlib.figure.Figure at 0x2e028dd8>"
      ]
     },
     "metadata": {},
     "output_type": "display_data"
    }
   ],
   "source": [
    "sns.countplot(df[\"key\"])"
   ]
  },
  {
   "cell_type": "code",
   "execution_count": 133,
   "metadata": {},
   "outputs": [
    {
     "data": {
      "text/plain": [
       "<matplotlib.axes._subplots.AxesSubplot at 0x2fb5efd0>"
      ]
     },
     "execution_count": 133,
     "metadata": {},
     "output_type": "execute_result"
    },
    {
     "data": {
      "image/png": "[encoded data removed]",
      "text/plain": [
       "<matplotlib.figure.Figure at 0x2f9d9ac8>"
      ]
     },
     "metadata": {},
     "output_type": "display_data"
    }
   ],
   "source": [
    "sns.distplot(df[\"speechiness\"])"
   ]
  },
  {
   "cell_type": "code",
   "execution_count": 136,
   "metadata": {
    "collapsed": true
   },
   "outputs": [],
   "source": [
    "#df[\"lEnergy\"] = df[\"energy\"].apply(lambda x: x*x)\n",
    "#df[\"lDanceability\"] = df[\"danceability\"].apply(lambda x: x*x)"
   ]
  },
  {
   "cell_type": "code",
   "execution_count": null,
   "metadata": {
    "collapsed": true
   },
   "outputs": [],
   "source": []
  },
  {
   "cell_type": "code",
   "execution_count": 194,
   "metadata": {
    "collapsed": true
   },
   "outputs": [],
   "source": [
    "from sklearn.preprocessing import StandardScaler"
   ]
  },
  {
   "cell_type": "code",
   "execution_count": 195,
   "metadata": {},
   "outputs": [
    {
     "data": {
      "text/plain": [
       "StandardScaler(copy=True, with_mean=True, with_std=True)"
      ]
     },
     "execution_count": 195,
     "metadata": {},
     "output_type": "execute_result"
    }
   ],
   "source": [
    "scaler = StandardScaler()\n",
    "scaler.fit(df)"
   ]
  },
  {
   "cell_type": "code",
   "execution_count": 196,
   "metadata": {
    "collapsed": true
   },
   "outputs": [],
   "source": [
    "scaled_data = scaler.transform(df)"
   ]
  },
  {
   "cell_type": "code",
   "execution_count": 197,
   "metadata": {
    "collapsed": true
   },
   "outputs": [],
   "source": [
    "from sklearn.decomposition import PCA"
   ]
  },
  {
   "cell_type": "code",
   "execution_count": 198,
   "metadata": {
    "collapsed": true
   },
   "outputs": [],
   "source": [
    "pca = PCA(n_components=2)"
   ]
  },
  {
   "cell_type": "code",
   "execution_count": 199,
   "metadata": {},
   "outputs": [
    {
     "data": {
      "text/plain": [
       "PCA(copy=True, iterated_power='auto', n_components=2, random_state=None,\n",
       "  svd_solver='auto', tol=0.0, whiten=False)"
      ]
     },
     "execution_count": 199,
     "metadata": {},
     "output_type": "execute_result"
    }
   ],
   "source": [
    "pca.fit(scaled_data)"
   ]
  },
  {
   "cell_type": "code",
   "execution_count": 200,
   "metadata": {
    "collapsed": true
   },
   "outputs": [],
   "source": [
    "x_pca = pca.transform(scaled_data)"
   ]
  },
  {
   "cell_type": "code",
   "execution_count": 201,
   "metadata": {},
   "outputs": [
    {
     "data": {
      "text/plain": [
       "(208, 11)"
      ]
     },
     "execution_count": 201,
     "metadata": {},
     "output_type": "execute_result"
    }
   ],
   "source": [
    "scaled_data.shape"
   ]
  },
  {
   "cell_type": "code",
   "execution_count": 202,
   "metadata": {},
   "outputs": [
    {
     "data": {
      "text/plain": [
       "(208, 2)"
      ]
     },
     "execution_count": 202,
     "metadata": {},
     "output_type": "execute_result"
    }
   ],
   "source": [
    "x_pca.shape"
   ]
  },
  {
   "cell_type": "code",
   "execution_count": 203,
   "metadata": {},
   "outputs": [
    {
     "data": {
      "text/plain": [
       "<matplotlib.collections.PathCollection at 0x332279e8>"
      ]
     },
     "execution_count": 203,
     "metadata": {},
     "output_type": "execute_result"
    },
    {
     "data": {
      "image/png": "[encoded data removed]",
      "text/plain": [
       "<matplotlib.figure.Figure at 0x33189cc0>"
      ]
     },
     "metadata": {},
     "output_type": "display_data"
    }
   ],
   "source": [
    "plt.figure(figsize=(10,10))\n",
    "plt.scatter(x_pca[:,0],x_pca[:,1])"
   ]
  },
  {
   "cell_type": "code",
   "execution_count": 204,
   "metadata": {},
   "outputs": [
    {
     "data": {
      "text/plain": [
       "<matplotlib.axes._subplots.AxesSubplot at 0x3324ae80>"
      ]
     },
     "execution_count": 204,
     "metadata": {},
     "output_type": "execute_result"
    },
    {
     "data": {
      "image/png": "[encoded data removed]",
      "text/plain": [
       "<matplotlib.figure.Figure at 0x33129940>"
      ]
     },
     "metadata": {},
     "output_type": "display_data"
    }
   ],
   "source": [
    "sns.distplot(x_pca[:,1])"
   ]
  },
  {
   "cell_type": "code",
   "execution_count": 212,
   "metadata": {},
   "outputs": [
    {
     "data": {
      "text/plain": [
       "<matplotlib.axes._subplots.AxesSubplot at 0x30928198>"
      ]
     },
     "execution_count": 212,
     "metadata": {},
     "output_type": "execute_result"
    },
    {
     "data": {
      "image/png": "[encoded data removed]",
      "text/plain": [
       "<matplotlib.figure.Figure at 0x333fee10>"
      ]
     },
     "metadata": {},
     "output_type": "display_data"
    }
   ],
   "source": [
    "sns.distplot(x_pca[:,0])"
   ]
  },
  {
   "cell_type": "code",
   "execution_count": 206,
   "metadata": {},
   "outputs": [],
   "source": [
    "ndf = pd.DataFrame(x_pca, columns =[\"p1\", \"p2\"])"
   ]
  },
  {
   "cell_type": "code",
   "execution_count": 207,
   "metadata": {},
   "outputs": [
    {
     "data": {
      "text/html": [
       "<div>\n",
       "<style>\n",
       "    .dataframe thead tr:only-child th {\n",
       "        text-align: right;\n",
       "    }\n",
       "\n",
       "    .dataframe thead th {\n",
       "        text-align: left;\n",
       "    }\n",
       "\n",
       "    .dataframe tbody tr th {\n",
       "        vertical-align: top;\n",
       "    }\n",
       "</style>\n",
       "<table border=\"1\" class=\"dataframe\">\n",
       "  <thead>\n",
       "    <tr style=\"text-align: right;\">\n",
       "      <th></th>\n",
       "      <th>p1</th>\n",
       "      <th>p2</th>\n",
       "    </tr>\n",
       "  </thead>\n",
       "  <tbody>\n",
       "    <tr>\n",
       "      <th>0</th>\n",
       "      <td>-0.050842</td>\n",
       "      <td>-0.689772</td>\n",
       "    </tr>\n",
       "    <tr>\n",
       "      <th>1</th>\n",
       "      <td>-1.557462</td>\n",
       "      <td>-0.761868</td>\n",
       "    </tr>\n",
       "    <tr>\n",
       "      <th>2</th>\n",
       "      <td>-0.920457</td>\n",
       "      <td>-0.268390</td>\n",
       "    </tr>\n",
       "    <tr>\n",
       "      <th>3</th>\n",
       "      <td>-1.704347</td>\n",
       "      <td>0.496971</td>\n",
       "    </tr>\n",
       "    <tr>\n",
       "      <th>4</th>\n",
       "      <td>0.596644</td>\n",
       "      <td>0.253221</td>\n",
       "    </tr>\n",
       "  </tbody>\n",
       "</table>\n",
       "</div>"
      ],
      "text/plain": [
       "         p1        p2\n",
       "0 -0.050842 -0.689772\n",
       "1 -1.557462 -0.761868\n",
       "2 -0.920457 -0.268390\n",
       "3 -1.704347  0.496971\n",
       "4  0.596644  0.253221"
      ]
     },
     "execution_count": 207,
     "metadata": {},
     "output_type": "execute_result"
    }
   ],
   "source": [
    "ndf.head()"
   ]
  },
  {
   "cell_type": "code",
   "execution_count": 208,
   "metadata": {},
   "outputs": [
    {
     "data": {
      "image/png": "[encoded data removed]",
      "text/plain": [
       "<matplotlib.figure.Figure at 0x33306390>"
      ]
     },
     "metadata": {},
     "output_type": "display_data"
    }
   ],
   "source": [
    "sns.jointplot(x= \"p1\", y= \"p2\", data=ndf, kind=\"kde\");"
   ]
  },
  {
   "cell_type": "code",
   "execution_count": 224,
   "metadata": {},
   "outputs": [
    {
     "data": {
      "image/png": "[encoded data removed]",
      "text/plain": [
       "<matplotlib.figure.Figure at 0x291ca0f0>"
      ]
     },
     "metadata": {},
     "output_type": "display_data"
    }
   ],
   "source": [
    "plt.figure() \n",
    "plt.xlabel(\"p1\") \n",
    "plt.ylabel(\"p2\") \n",
    "plt.plot(x_pca[:,0],x_pca[:,1], \"b*\")\n",
    "plt.plot(x_pca[0,0],x_pca[0,1],\"ro\")\n",
    "plt.show()"
   ]
  },
  {
   "cell_type": "code",
   "execution_count": 237,
   "metadata": {
    "collapsed": true
   },
   "outputs": [],
   "source": [
    "def estimateGaussian(dataset):\n",
    "    mu = np.mean(dataset, axis=0)\n",
    "    sigma = np.cov(dataset.T)\n",
    "    return mu, sigma"
   ]
  },
  {
   "cell_type": "code",
   "execution_count": 242,
   "metadata": {
    "collapsed": true
   },
   "outputs": [],
   "source": [
    "from scipy.stats import multivariate_normal\n",
    "def multivariateGaussian(dataset,mu,sigma):\n",
    "    p = multivariate_normal(mean=mu, cov=sigma)\n",
    "    return p.pdf(dataset)"
   ]
  },
  {
   "cell_type": "code",
   "execution_count": 243,
   "metadata": {
    "collapsed": true
   },
   "outputs": [],
   "source": [
    "def selectThresholdByCV(probs,gt):\n",
    "    best_epsilon = 0\n",
    "    best_f1 = 0\n",
    "    f = 0\n",
    "    stepsize = (max(probs) - min(probs)) / 1000;\n",
    "    epsilons = np.arange(min(probs),max(probs),stepsize)\n",
    "    for epsilon in np.nditer(epsilons):\n",
    "        predictions = (probs < epsilon)\n",
    "        f = f1_score(gt, predictions, average = \"binary\")\n",
    "        if f > best_f1:\n",
    "            best_f1 = f\n",
    "            best_epsilon = epsilon\n",
    "    return best_f1, best_epsilon"
   ]
  },
  {
   "cell_type": "code",
   "execution_count": 244,
   "metadata": {},
   "outputs": [],
   "source": [
    "mu, sigma = estimateGaussian(ndf)\n",
    "p = multivariateGaussian(ndf,mu,sigma)"
   ]
  },
  {
   "cell_type": "code",
   "execution_count": 274,
   "metadata": {},
   "outputs": [],
   "source": [
    "outliers = np.asarray(np.where(p < 0.003))"
   ]
  },
  {
   "cell_type": "code",
   "execution_count": 275,
   "metadata": {},
   "outputs": [
    {
     "data": {
      "image/png": "[encoded data removed]",
      "text/plain": [
       "<matplotlib.figure.Figure at 0x351096d8>"
      ]
     },
     "metadata": {},
     "output_type": "display_data"
    }
   ],
   "source": [
    "plt.figure() \n",
    "plt.xlabel(\"PCA - Parameter 1\") \n",
    "plt.ylabel(\"PCA - Parameter 2\") \n",
    "plt.plot(x_pca[:,0],x_pca[:,1],\"b*\")\n",
    "plt.plot(x_pca[outliers,0],x_pca[outliers,1],\"ro\")\n",
    "#plt.show()\n",
    "plt.savefig('anomaly.png') "
   ]
  },
  {
   "cell_type": "code",
   "execution_count": 267,
   "metadata": {},
   "outputs": [
    {
     "data": {
      "text/plain": [
       "<matplotlib.figure.Figure at 0x34a494a8>"
      ]
     },
     "metadata": {},
     "output_type": "display_data"
    }
   ],
   "source": [
    "plt.savefig('anomaly.png') "
   ]
  },
  {
   "cell_type": "code",
   "execution_count": null,
   "metadata": {
    "collapsed": true
   },
   "outputs": [],
   "source": []
  }
 ],
 "metadata": {
  "kernelspec": {
   "display_name": "Python 3",
   "language": "python",
   "name": "python3"
  },
  "language_info": {
   "codemirror_mode": {
    "name": "ipython",
    "version": 3
   },
   "file_extension": ".py",
   "mimetype": "text/x-python",
   "name": "python",
   "nbconvert_exporter": "python",
   "pygments_lexer": "ipython3",
   "version": "3.6.1"
  }
 },
 "nbformat": 4,
 "nbformat_minor": 2
}
